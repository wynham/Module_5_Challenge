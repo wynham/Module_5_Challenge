{
 "cells": [
  {
   "cell_type": "markdown",
   "metadata": {},
   "source": [
    "# Financial Planning with APIs and Simulations\n",
    "\n",
    "In this Challenge, you’ll create two financial analysis tools by using a single Jupyter notebook:\n",
    "\n",
    "Part 1: A financial planner for emergencies. The members will be able to use this tool to visualize their current savings. The members can then determine if they have enough reserves for an emergency fund.\n",
    "\n",
    "Part 2: A financial planner for retirement. This tool will forecast the performance of their retirement portfolio in 30 years. To do this, the tool will make an Alpaca API call via the Alpaca SDK to get historical price data for use in Monte Carlo simulations.\n",
    "\n",
    "You’ll use the information from the Monte Carlo simulation to answer questions about the portfolio in your Jupyter notebook.\n",
    "\n"
   ]
  },
  {
   "cell_type": "code",
   "execution_count": 40,
   "metadata": {},
   "outputs": [],
   "source": [
    "# Import the required libraries and dependencies\n",
    "import os\n",
    "import requests\n",
    "import json\n",
    "import pandas as pd\n",
    "from dotenv import load_dotenv\n",
    "import alpaca_trade_api as tradeapi\n",
    "from MCForecastTools import MCSimulation\n",
    "\n",
    "%matplotlib inline"
   ]
  },
  {
   "cell_type": "code",
   "execution_count": 41,
   "metadata": {},
   "outputs": [
    {
     "data": {
      "text/plain": [
       "True"
      ]
     },
     "execution_count": 41,
     "metadata": {},
     "output_type": "execute_result"
    }
   ],
   "source": [
    "# Load the environment variables from the .env file\n",
    "#by calling the load_dotenv function\n",
    "load_dotenv()"
   ]
  },
  {
   "cell_type": "markdown",
   "metadata": {},
   "source": [
    "## Part 1: Create a Financial Planner for Emergencies"
   ]
  },
  {
   "cell_type": "markdown",
   "metadata": {},
   "source": [
    "### Evaluate the Cryptocurrency Wallet by Using the Requests Library\n",
    "\n",
    "In this section, you’ll determine the current value of a member’s cryptocurrency wallet. You’ll collect the current prices for the Bitcoin and Ethereum cryptocurrencies by using the Python Requests library. For the prototype, you’ll assume that the member holds the 1.2 Bitcoins (BTC) and 5.3 Ethereum coins (ETH). To do all this, complete the following steps:\n",
    "\n",
    "1. Create a variable named `monthly_income`, and set its value to `12000`.\n",
    "\n",
    "2. Use the Requests library to get the current price (in US dollars) of Bitcoin (BTC) and Ethereum (ETH) by using the API endpoints that the starter code supplies.\n",
    "\n",
    "3. Navigate the JSON response object to access the current price of each coin, and store each in a variable.\n",
    "\n",
    "    > **Hint** Note the specific identifier for each cryptocurrency in the API JSON response. The Bitcoin identifier is `1`, and the Ethereum identifier is `1027`.\n",
    "\n",
    "4. Calculate the value, in US dollars, of the current amount of each cryptocurrency and of the entire cryptocurrency wallet.\n",
    "\n"
   ]
  },
  {
   "cell_type": "code",
   "execution_count": 42,
   "metadata": {},
   "outputs": [],
   "source": [
    "# The current number of coins for each cryptocurrency asset held in the portfolio.\n",
    "btc_coins = 1.2\n",
    "eth_coins = 5.3"
   ]
  },
  {
   "cell_type": "markdown",
   "metadata": {},
   "source": [
    "#### Step 1: Create a variable named `monthly_income`, and set its value to `12000`."
   ]
  },
  {
   "cell_type": "code",
   "execution_count": 43,
   "metadata": {},
   "outputs": [],
   "source": [
    "# The monthly amount for the member's household income\n",
    "monthly_income = 12000"
   ]
  },
  {
   "cell_type": "markdown",
   "metadata": {},
   "source": [
    "#### Review the endpoint URLs for the API calls to Free Crypto API in order to get the current pricing information for both BTC and ETH."
   ]
  },
  {
   "cell_type": "code",
   "execution_count": 44,
   "metadata": {},
   "outputs": [],
   "source": [
    "# The Free Crypto API Call endpoint URLs for the held cryptocurrency assets\n",
    "btc_url = \"https://api.alternative.me/v2/ticker/Bitcoin/?convert=USD\"\n",
    "eth_url = \"https://api.alternative.me/v2/ticker/Ethereum/?convert=USD\""
   ]
  },
  {
   "cell_type": "markdown",
   "metadata": {},
   "source": [
    "#### Step 2. Use the Requests library to get the current price (in US dollars) of Bitcoin (BTC) and Ethereum (ETH) by using the API endpoints that the starter code supplied."
   ]
  },
  {
   "cell_type": "code",
   "execution_count": 45,
   "metadata": {},
   "outputs": [
    {
     "name": "stdout",
     "output_type": "stream",
     "text": [
      "{\n",
      "    \"data\": {\n",
      "        \"1\": {\n",
      "            \"circulating_supply\": 18644768,\n",
      "            \"id\": 1,\n",
      "            \"last_updated\": 1614888814,\n",
      "            \"max_supply\": 21000000,\n",
      "            \"name\": \"Bitcoin\",\n",
      "            \"quotes\": {\n",
      "                \"USD\": {\n",
      "                    \"market_cap\": 893484194483,\n",
      "                    \"percent_change_1h\": -1.02570159719416,\n",
      "                    \"percent_change_24h\": -6.4806103223351,\n",
      "                    \"percent_change_7d\": -4.10186636702229,\n",
      "                    \"percentage_change_1h\": -1.02570159719416,\n",
      "                    \"percentage_change_24h\": -6.4806103223351,\n",
      "                    \"percentage_change_7d\": -4.10186636702229,\n",
      "                    \"price\": 47805.0,\n",
      "                    \"volume_24h\": 59337048342\n",
      "                }\n",
      "            },\n",
      "            \"rank\": 1,\n",
      "            \"symbol\": \"BTC\",\n",
      "            \"total_supply\": 18644768,\n",
      "            \"website_slug\": \"bitcoin\"\n",
      "        }\n",
      "    },\n",
      "    \"metadata\": {\n",
      "        \"error\": null,\n",
      "        \"num_cryptocurrencies\": 1336,\n",
      "        \"timestamp\": 1614888814\n",
      "    }\n",
      "}\n"
     ]
    }
   ],
   "source": [
    "# Using the Python requests library, make an API call to access the current price of BTC\n",
    "btc_response = requests.get(btc_url).json()\n",
    "\n",
    "# Use the json.dumps function to review the response data from the API call\n",
    "# Use the indent and sort_keys parameters to make the response object readable\n",
    "print(json.dumps(btc_response, indent=4, sort_keys=True))"
   ]
  },
  {
   "cell_type": "code",
   "execution_count": 46,
   "metadata": {},
   "outputs": [
    {
     "name": "stdout",
     "output_type": "stream",
     "text": [
      "{\n",
      "    \"data\": {\n",
      "        \"1027\": {\n",
      "            \"circulating_supply\": 114915137,\n",
      "            \"id\": 1027,\n",
      "            \"last_updated\": 1614888794,\n",
      "            \"max_supply\": 0,\n",
      "            \"name\": \"Ethereum\",\n",
      "            \"quotes\": {\n",
      "                \"USD\": {\n",
      "                    \"market_cap\": 175537608253,\n",
      "                    \"percent_change_1h\": -0.766204079586655,\n",
      "                    \"percent_change_24h\": -5.27858042009875,\n",
      "                    \"percent_change_7d\": -6.52413171044358,\n",
      "                    \"percentage_change_1h\": -0.766204079586655,\n",
      "                    \"percentage_change_24h\": -5.27858042009875,\n",
      "                    \"percentage_change_7d\": -6.52413171044358,\n",
      "                    \"price\": 1522.15,\n",
      "                    \"volume_24h\": 29766443367\n",
      "                }\n",
      "            },\n",
      "            \"rank\": 2,\n",
      "            \"symbol\": \"ETH\",\n",
      "            \"total_supply\": 114915137,\n",
      "            \"website_slug\": \"ethereum\"\n",
      "        }\n",
      "    },\n",
      "    \"metadata\": {\n",
      "        \"error\": null,\n",
      "        \"num_cryptocurrencies\": 1336,\n",
      "        \"timestamp\": 1614888794\n",
      "    }\n",
      "}\n"
     ]
    }
   ],
   "source": [
    "# Using the Python requests library, make an API call to access the current price ETH\n",
    "eth_response = requests.get(eth_url).json()\n",
    "\n",
    "# Use the json.dumps function to review the response data from the API call\n",
    "# Use the indent and sort_keys parameters to make the response object readable\n",
    "print(json.dumps(eth_response, indent=4, sort_keys=True))"
   ]
  },
  {
   "cell_type": "markdown",
   "metadata": {},
   "source": [
    "#### Step 3: Navigate the JSON response object to access the current price of each coin, and store each in a variable."
   ]
  },
  {
   "cell_type": "code",
   "execution_count": 47,
   "metadata": {},
   "outputs": [
    {
     "data": {
      "text/plain": [
       "47805.0"
      ]
     },
     "execution_count": 47,
     "metadata": {},
     "output_type": "execute_result"
    }
   ],
   "source": [
    "# Navigate the BTC response object to access the current price of BTC\n",
    "btc_price = btc_response[\"data\"][\"1\"][\"quotes\"][\"USD\"][\"price\"]\n",
    "\n",
    "# Print the current price of BTC\n",
    "btc_price"
   ]
  },
  {
   "cell_type": "code",
   "execution_count": 48,
   "metadata": {},
   "outputs": [
    {
     "data": {
      "text/plain": [
       "1522.15"
      ]
     },
     "execution_count": 48,
     "metadata": {},
     "output_type": "execute_result"
    }
   ],
   "source": [
    "# Navigate the BTC response object to access the current price of ETH\n",
    "eth_price = eth_response[\"data\"][\"1027\"][\"quotes\"][\"USD\"][\"price\"]\n",
    "\n",
    "# Print the current price of ETH\n",
    "eth_price"
   ]
  },
  {
   "cell_type": "markdown",
   "metadata": {},
   "source": [
    "### Step 4: Calculate the value, in US dollars, of the current amount of each cryptocurrency and of the entire cryptocurrency wallet."
   ]
  },
  {
   "cell_type": "code",
   "execution_count": 49,
   "metadata": {},
   "outputs": [
    {
     "data": {
      "text/plain": [
       "57366.0"
      ]
     },
     "execution_count": 49,
     "metadata": {},
     "output_type": "execute_result"
    }
   ],
   "source": [
    "# Compute the current value of the BTC holding \n",
    "btc_value = btc_coins * btc_price\n",
    "\n",
    "# Print current value of your holding in BTC\n",
    "btc_value"
   ]
  },
  {
   "cell_type": "code",
   "execution_count": 50,
   "metadata": {},
   "outputs": [
    {
     "data": {
      "text/plain": [
       "8067.395"
      ]
     },
     "execution_count": 50,
     "metadata": {},
     "output_type": "execute_result"
    }
   ],
   "source": [
    "# Compute the current value of the ETH holding \n",
    "eth_value = eth_coins * eth_price\n",
    "\n",
    "# Print current value of your holding in ETH\n",
    "eth_value"
   ]
  },
  {
   "cell_type": "code",
   "execution_count": 51,
   "metadata": {},
   "outputs": [
    {
     "data": {
      "text/plain": [
       "65433.395000000004"
      ]
     },
     "execution_count": 51,
     "metadata": {},
     "output_type": "execute_result"
    }
   ],
   "source": [
    "# Compute the total value of the cryptocurrency wallet\n",
    "# Add the value of the BTC holding to the value of the ETH holding\n",
    "total_crypto_wallet = btc_value + eth_value\n",
    "\n",
    "# Print current cryptocurrency wallet balance\n",
    "total_crypto_wallet"
   ]
  },
  {
   "cell_type": "markdown",
   "metadata": {},
   "source": [
    "### Evaluate the Stock and Bond Holdings by Using the Alpaca SDK\n",
    "\n",
    "In this section, you’ll determine the current value of a member’s stock and bond holdings. You’ll make an API call to Alpaca via the Alpaca SDK to get the current closing prices of the SPDR S&P 500 ETF Trust (ticker: SPY) and of the iShares Core US Aggregate Bond ETF (ticker: AGG). For the prototype, assume that the member holds 110 shares of SPY, which represents the stock portion of their portfolio, and 200 shares of AGG, which represents the bond portion. To do all this, complete the following steps:\n",
    "\n",
    "1. In the `Starter_Code` folder, create an environment file (`.env`) to store the values of your Alpaca API key and Alpaca secret key.\n",
    "\n",
    "2. Set the variables for the Alpaca API and secret keys. Using the Alpaca SDK, create the Alpaca `tradeapi.REST` object. In this object, include the parameters for the Alpaca API key, the secret key, and the version number.\n",
    "\n",
    "3. Set the following parameters for the Alpaca API call:\n",
    "\n",
    "    - `tickers`: Use the tickers for the member’s stock and bond holdings.\n",
    "\n",
    "    - `timeframe`: Use a time frame of one day.\n",
    "\n",
    "    - `start_date` and `end_date`: Use the same date for these parameters, and format them with the date of the previous weekday (or `2020-08-07`). This is because you want the one closing price for the most-recent trading day.\n",
    "\n",
    "4. Get the current closing prices for `SPY` and `AGG` by using the Alpaca `get_barset` function. Format the response as a Pandas DataFrame by including the `df` property at the end of the `get_barset` function.\n",
    "\n",
    "5. Navigating the Alpaca response DataFrame, select the `SPY` and `AGG` closing prices, and store them as variables.\n",
    "\n",
    "6. Calculate the value, in US dollars, of the current amount of shares in each of the stock and bond portions of the portfolio, and print the results.\n"
   ]
  },
  {
   "cell_type": "markdown",
   "metadata": {},
   "source": [
    "#### Review the total number of shares held in both (SPY) and (AGG)."
   ]
  },
  {
   "cell_type": "code",
   "execution_count": 52,
   "metadata": {},
   "outputs": [],
   "source": [
    "# Current amount of shares held in both the stock (SPY) and bond (AGG) portion of the portfolio.\n",
    "spy_shares = 110\n",
    "agg_shares = 200"
   ]
  },
  {
   "cell_type": "markdown",
   "metadata": {},
   "source": [
    "#### Step 1: In the `Starter_Code` folder, create an environment file (`.env`) to store the values of your Alpaca API key and Alpaca secret key."
   ]
  },
  {
   "cell_type": "markdown",
   "metadata": {},
   "source": [
    "#### Step 2: Set the variables for the Alpaca API and secret keys. Using the Alpaca SDK, create the Alpaca `tradeapi.REST` object. In this object, include the parameters for the Alpaca API key, the secret key, and the version number."
   ]
  },
  {
   "cell_type": "code",
   "execution_count": 53,
   "metadata": {},
   "outputs": [],
   "source": [
    "# Set the variables for the Alpaca API and secret keys\n",
    "alpaca_api_key = os.getenv(\"ALPACA_API_KEY\")\n",
    "alpaca_secret_key = os.getenv(\"ALPACA_SECRET_KEY\")\n",
    "\n",
    "# Create the Alpaca tradeapi.REST object\n",
    "alpaca = tradeapi.REST(\n",
    "    alpaca_api_key,\n",
    "    alpaca_secret_key,\n",
    "    api_version=\"v2\")"
   ]
  },
  {
   "cell_type": "markdown",
   "metadata": {},
   "source": [
    "#### Step 3: Set the following parameters for the Alpaca API call:\n",
    "\n",
    "- `tickers`: Use the tickers for the member’s stock and bond holdings.\n",
    "\n",
    "- `timeframe`: Use a time frame of one day.\n",
    "\n",
    "- `start_date` and `end_date`: Use the same date for these parameters, and format them with the date of the previous weekday (or `2020-08-07`). This is because you want the one closing price for the most-recent trading day.\n"
   ]
  },
  {
   "cell_type": "code",
   "execution_count": 54,
   "metadata": {},
   "outputs": [],
   "source": [
    "# Set the tickers for both the bond and stock portion of the portfolio\n",
    "tickers = [\"SPY\", \"AGG\"]\n",
    "\n",
    "# Set timeframe to 1D \n",
    "timeframe = \"1D\"\n",
    "\n",
    "# Format current date as ISO format\n",
    "# Set both the start and end date at the date of your prior weekday \n",
    "# This will give you the closing price of the previous trading day\n",
    "# Alternatively you can use a start and end date of 2020-08-07\n",
    "start_date = pd.Timestamp(\"2020-08-07\", tz=\"America/New_York\").isoformat()\n",
    "end_date = pd.Timestamp(\"2020-08-07\", tz=\"America/New_York\").isoformat()"
   ]
  },
  {
   "cell_type": "markdown",
   "metadata": {},
   "source": [
    "#### Step 4: Get the current closing prices for `SPY` and `AGG` by using the Alpaca `get_barset` function. Format the response as a Pandas DataFrame by including the `df` property at the end of the `get_barset` function."
   ]
  },
  {
   "cell_type": "code",
   "execution_count": 55,
   "metadata": {},
   "outputs": [
    {
     "data": {
      "text/html": [
       "<div>\n",
       "<style scoped>\n",
       "    .dataframe tbody tr th:only-of-type {\n",
       "        vertical-align: middle;\n",
       "    }\n",
       "\n",
       "    .dataframe tbody tr th {\n",
       "        vertical-align: top;\n",
       "    }\n",
       "\n",
       "    .dataframe thead tr th {\n",
       "        text-align: left;\n",
       "    }\n",
       "\n",
       "    .dataframe thead tr:last-of-type th {\n",
       "        text-align: right;\n",
       "    }\n",
       "</style>\n",
       "<table border=\"1\" class=\"dataframe\">\n",
       "  <thead>\n",
       "    <tr>\n",
       "      <th></th>\n",
       "      <th colspan=\"5\" halign=\"left\">AGG</th>\n",
       "      <th colspan=\"5\" halign=\"left\">SPY</th>\n",
       "    </tr>\n",
       "    <tr>\n",
       "      <th></th>\n",
       "      <th>open</th>\n",
       "      <th>high</th>\n",
       "      <th>low</th>\n",
       "      <th>close</th>\n",
       "      <th>volume</th>\n",
       "      <th>open</th>\n",
       "      <th>high</th>\n",
       "      <th>low</th>\n",
       "      <th>close</th>\n",
       "      <th>volume</th>\n",
       "    </tr>\n",
       "    <tr>\n",
       "      <th>time</th>\n",
       "      <th></th>\n",
       "      <th></th>\n",
       "      <th></th>\n",
       "      <th></th>\n",
       "      <th></th>\n",
       "      <th></th>\n",
       "      <th></th>\n",
       "      <th></th>\n",
       "      <th></th>\n",
       "      <th></th>\n",
       "    </tr>\n",
       "  </thead>\n",
       "  <tbody>\n",
       "    <tr>\n",
       "      <th>2020-08-07 00:00:00-04:00</th>\n",
       "      <td>119.66</td>\n",
       "      <td>119.73</td>\n",
       "      <td>119.395</td>\n",
       "      <td>119.445</td>\n",
       "      <td>8830420</td>\n",
       "      <td>333.28</td>\n",
       "      <td>334.88</td>\n",
       "      <td>332.3</td>\n",
       "      <td>334.55</td>\n",
       "      <td>98710236</td>\n",
       "    </tr>\n",
       "  </tbody>\n",
       "</table>\n",
       "</div>"
      ],
      "text/plain": [
       "                              AGG                                        SPY  \\\n",
       "                             open    high      low    close   volume    open   \n",
       "time                                                                           \n",
       "2020-08-07 00:00:00-04:00  119.66  119.73  119.395  119.445  8830420  333.28   \n",
       "\n",
       "                                                            \n",
       "                             high    low   close    volume  \n",
       "time                                                        \n",
       "2020-08-07 00:00:00-04:00  334.88  332.3  334.55  98710236  "
      ]
     },
     "execution_count": 55,
     "metadata": {},
     "output_type": "execute_result"
    }
   ],
   "source": [
    "# Use the Alpaca get_barset function to get current closing prices the portfolio\n",
    "# Be sure to set the `df` property after the function to format the response object as a DataFrame\n",
    "prices_df = alpaca.get_barset(\n",
    "    tickers,\n",
    "    timeframe,\n",
    "    start=start_date,\n",
    "    end=end_date,\n",
    ").df\n",
    "\n",
    "# Review the first 5 rows of the Alpaca DataFrame\n",
    "prices_df.head()"
   ]
  },
  {
   "cell_type": "markdown",
   "metadata": {},
   "source": [
    "#### Step 5: Navigating the Alpaca response DataFrame, select the `SPY` and `AGG` closing prices, and store them as variables."
   ]
  },
  {
   "cell_type": "code",
   "execution_count": 56,
   "metadata": {},
   "outputs": [
    {
     "data": {
      "text/plain": [
       "119.445"
      ]
     },
     "execution_count": 56,
     "metadata": {},
     "output_type": "execute_result"
    }
   ],
   "source": [
    "# Access the closing price for AGG from the Alpaca DataFrame\n",
    "# Converting the value to a floating point number\n",
    "agg_close_price = float(prices_df[\"AGG\"][\"close\"])\n",
    "\n",
    "# Print the AGG closing price\n",
    "agg_close_price"
   ]
  },
  {
   "cell_type": "code",
   "execution_count": 57,
   "metadata": {},
   "outputs": [
    {
     "data": {
      "text/plain": [
       "334.55"
      ]
     },
     "execution_count": 57,
     "metadata": {},
     "output_type": "execute_result"
    }
   ],
   "source": [
    "# Access the closing price for SPY from the Alpaca DataFrame\n",
    "# Converting the value to a floating point number\n",
    "spy_close_price = float(prices_df[\"SPY\"][\"close\"])\n",
    "\n",
    "# Print the SPY closing price\n",
    "spy_close_price"
   ]
  },
  {
   "cell_type": "markdown",
   "metadata": {},
   "source": [
    "#### Step 6: Calculate the value, in US dollars, of the current amount of shares in each of the stock and bond portions of the portfolio, and print the results."
   ]
  },
  {
   "cell_type": "code",
   "execution_count": 58,
   "metadata": {},
   "outputs": [
    {
     "data": {
      "text/plain": [
       "23889.0"
      ]
     },
     "execution_count": 58,
     "metadata": {},
     "output_type": "execute_result"
    }
   ],
   "source": [
    "# Calculate the current value of the bond portion of the portfolio\n",
    "agg_value = agg_close_price * agg_shares\n",
    "\n",
    "# Print the current value of the bond portfolio\n",
    "agg_value"
   ]
  },
  {
   "cell_type": "code",
   "execution_count": 59,
   "metadata": {},
   "outputs": [
    {
     "data": {
      "text/plain": [
       "36800.5"
      ]
     },
     "execution_count": 59,
     "metadata": {},
     "output_type": "execute_result"
    }
   ],
   "source": [
    "# Calculate the current value of the stock portion of the portfolio\n",
    "spy_value = spy_close_price * spy_shares\n",
    "\n",
    "# Print the current value of the stock portfolio\n",
    "spy_value"
   ]
  },
  {
   "cell_type": "code",
   "execution_count": 60,
   "metadata": {},
   "outputs": [
    {
     "data": {
      "text/plain": [
       "60689.5"
      ]
     },
     "execution_count": 60,
     "metadata": {},
     "output_type": "execute_result"
    }
   ],
   "source": [
    "# Calculate the total value of the stock and bond portion of the portfolio\n",
    "total_stocks_bonds = agg_value + spy_value\n",
    "\n",
    "# Print the current balance of the stock and bond portion of the portfolio\n",
    "total_stocks_bonds"
   ]
  },
  {
   "cell_type": "code",
   "execution_count": 61,
   "metadata": {},
   "outputs": [
    {
     "data": {
      "text/plain": [
       "126122.895"
      ]
     },
     "execution_count": 61,
     "metadata": {},
     "output_type": "execute_result"
    }
   ],
   "source": [
    "# Calculate the total value of the member's entire savings portfolio\n",
    "# Add the value of the cryptocurrency walled to the value of the total stocks and bonds\n",
    "total_portfolio = total_stocks_bonds + total_crypto_wallet\n",
    "\n",
    "# Print current cryptocurrency wallet balance\n",
    "total_portfolio"
   ]
  },
  {
   "cell_type": "markdown",
   "metadata": {},
   "source": [
    "### Evaluate the Emergency Fund\n",
    "\n",
    "In this section, you’ll use the valuations for the cryptocurrency wallet and for the stock and bond portions of the portfolio to determine if the credit union member has enough savings to build an emergency fund into their financial plan. To do this, complete the following steps:\n",
    "\n",
    "1. Create a Python list named `savings_data` that has two elements. The first element contains the total value of the cryptocurrency wallet. The second element contains the total value of the stock and bond portions of the portfolio.\n",
    "\n",
    "2. Use the `savings_data` list to create a Pandas DataFrame named `savings_df`, and then display this DataFrame. The function to create the DataFrame should take the following three parameters:\n",
    "\n",
    "    - `savings_data`: Use the list that you just created.\n",
    "\n",
    "    - `columns`: Set this parameter equal to a Python list with a single value called `amount`.\n",
    "\n",
    "    - `index`: Set this parameter equal to a Python list with the values of `crypto` and `stock/bond`.\n",
    "\n",
    "3. Use the `savings_df` DataFrame to plot a pie chart that visualizes the composition of the member’s portfolio. The y-axis of the pie chart uses `amount`. Be sure to add a title.\n",
    "\n",
    "4. Using Python, determine if the current portfolio has enough to create an emergency fund as part of the member’s financial plan. Ideally, an emergency fund should equal to three times the member’s monthly income. To do this, implement the following steps:\n",
    "\n",
    "    1. Create a variable named `emergency_fund_value`, and set it equal to three times the value of the member’s `monthly_income` of $12000. (You set this earlier in Part 1).\n",
    "\n",
    "    2. Create a series of three if statements to determine if the member’s total portfolio is large enough to fund the emergency portfolio:\n",
    "\n",
    "        1. If the total portfolio value is greater than the emergency fund value, display a message congratulating the member for having enough money in this fund.\n",
    "\n",
    "        2. Else if the total portfolio value is equal to the emergency fund value, display a message congratulating the member on reaching this important financial goal.\n",
    "\n",
    "        3. Else the total portfolio is less than the emergency fund value, so display a message showing how many dollars away the member is from reaching the goal. (Subtract the total portfolio value from the emergency fund value.)\n"
   ]
  },
  {
   "cell_type": "markdown",
   "metadata": {},
   "source": [
    "#### Step 1: Create a Python list named `savings_data` that has two elements. The first element contains the total value of the cryptocurrency wallet. The second element contains the total value of the stock and bond portions of the portfolio."
   ]
  },
  {
   "cell_type": "code",
   "execution_count": 62,
   "metadata": {},
   "outputs": [
    {
     "data": {
      "text/plain": [
       "[65433.395000000004, 60689.5]"
      ]
     },
     "execution_count": 62,
     "metadata": {},
     "output_type": "execute_result"
    }
   ],
   "source": [
    "# Consolidate financial assets data into a Python list\n",
    "savings_data = [total_crypto_wallet, total_stocks_bonds]\n",
    "\n",
    "# Review the Python list savings_data\n",
    "savings_data"
   ]
  },
  {
   "cell_type": "markdown",
   "metadata": {},
   "source": [
    "#### Step 2: Use the `savings_data` list to create a Pandas DataFrame named `savings_df`, and then display this DataFrame. The function to create the DataFrame should take the following three parameters:\n",
    "\n",
    "- `savings_data`: Use the list that you just created.\n",
    "\n",
    "- `columns`: Set this parameter equal to a Python list with a single value called `amount`.\n",
    "\n",
    "- `index`: Set this parameter equal to a Python list with the values of `crypto` and `stock/bond`.\n"
   ]
  },
  {
   "cell_type": "code",
   "execution_count": 63,
   "metadata": {},
   "outputs": [
    {
     "data": {
      "text/html": [
       "<div>\n",
       "<style scoped>\n",
       "    .dataframe tbody tr th:only-of-type {\n",
       "        vertical-align: middle;\n",
       "    }\n",
       "\n",
       "    .dataframe tbody tr th {\n",
       "        vertical-align: top;\n",
       "    }\n",
       "\n",
       "    .dataframe thead th {\n",
       "        text-align: right;\n",
       "    }\n",
       "</style>\n",
       "<table border=\"1\" class=\"dataframe\">\n",
       "  <thead>\n",
       "    <tr style=\"text-align: right;\">\n",
       "      <th></th>\n",
       "      <th>amount</th>\n",
       "    </tr>\n",
       "  </thead>\n",
       "  <tbody>\n",
       "    <tr>\n",
       "      <th>crypto</th>\n",
       "      <td>65433.395</td>\n",
       "    </tr>\n",
       "    <tr>\n",
       "      <th>stock/bond</th>\n",
       "      <td>60689.500</td>\n",
       "    </tr>\n",
       "  </tbody>\n",
       "</table>\n",
       "</div>"
      ],
      "text/plain": [
       "               amount\n",
       "crypto      65433.395\n",
       "stock/bond  60689.500"
      ]
     },
     "execution_count": 63,
     "metadata": {},
     "output_type": "execute_result"
    }
   ],
   "source": [
    "# Create a Pandas DataFrame called savings_df \n",
    "savings_df = pd.DataFrame(savings_data, columns=[\"amount\"], index=[\"crypto\", \"stock/bond\"])\n",
    "\n",
    "# Display the savings_df DataFrame\n",
    "savings_df"
   ]
  },
  {
   "cell_type": "markdown",
   "metadata": {},
   "source": [
    "#### Step 3: Use the `savings_df` DataFrame to plot a pie chart that visualizes the composition of the member’s portfolio. The y-axis of the pie chart uses `amount`. Be sure to add a title."
   ]
  },
  {
   "cell_type": "code",
   "execution_count": 64,
   "metadata": {},
   "outputs": [
    {
     "data": {
      "text/plain": [
       "<AxesSubplot:title={'center':'Portfolio Pie Chart'}, ylabel='amount'>"
      ]
     },
     "execution_count": 64,
     "metadata": {},
     "output_type": "execute_result"
    },
    {
     "data": {
      "image/png": "[encoded data removed]",
      "text/plain": [
       "<Figure size 432x288 with 1 Axes>"
      ]
     },
     "metadata": {},
     "output_type": "display_data"
    }
   ],
   "source": [
    "# Plot the total value of the member's portfolio (crypto and stock/bond) in a pie chart\n",
    "savings_df.plot.pie(y='amount', title=\"Portfolio Pie Chart\")"
   ]
  },
  {
   "cell_type": "markdown",
   "metadata": {},
   "source": [
    "#### Step 4: Using Python, determine if the current portfolio has enough to create an emergency fund as part of the member’s financial plan. Ideally, an emergency fund should equal to three times the member’s monthly income. To do this, implement the following steps:\n",
    "\n",
    "Step 1. Create a variable named `emergency_fund_value`, and set it equal to three times the value of the member’s `monthly_income` of 12000. (You set this earlier in Part 1).\n",
    "\n",
    "Step 2. Create a series of three if statements to determine if the member’s total portfolio is large enough to fund the emergency portfolio:\n",
    "\n",
    "* If the total portfolio value is greater than the emergency fund value, display a message congratulating the member for having enough money in this fund.\n",
    "\n",
    "* Else if the total portfolio value is equal to the emergency fund value, display a message congratulating the member on reaching this important financial goal.\n",
    "\n",
    "* Else the total portfolio is less than the emergency fund value, so display a message showing how many dollars away the member is from reaching the goal. (Subtract the total portfolio value from the emergency fund value.)\n"
   ]
  },
  {
   "cell_type": "markdown",
   "metadata": {},
   "source": [
    "##### Step 4-1: Create a variable named `emergency_fund_value`, and set it equal to three times the value of the member’s `monthly_income` of 12000. (You set this earlier in Part 1)."
   ]
  },
  {
   "cell_type": "code",
   "execution_count": 65,
   "metadata": {},
   "outputs": [],
   "source": [
    "# Create a variable named emergency_fund_value\n",
    "emergency_fund_value = monthly_income * 3"
   ]
  },
  {
   "cell_type": "markdown",
   "metadata": {},
   "source": [
    "##### Step 4-2: Create a series of three if statements to determine if the member’s total portfolio is large enough to fund the emergency portfolio:\n",
    "\n",
    "* If the total portfolio value is greater than the emergency fund value, display a message congratulating the member for having enough money in this fund.\n",
    "\n",
    "* Else if the total portfolio value is equal to the emergency fund value, display a message congratulating the member on reaching this important financial goal.\n",
    "\n",
    "* Else the total portfolio is less than the emergency fund value, so display a message showing how many dollars away the member is from reaching the goal. (Subtract the total portfolio value from the emergency fund value.)"
   ]
  },
  {
   "cell_type": "code",
   "execution_count": 66,
   "metadata": {},
   "outputs": [
    {
     "name": "stdout",
     "output_type": "stream",
     "text": [
      "Congratulations, you have enough money in the fund\n"
     ]
    }
   ],
   "source": [
    "# Evaluate the possibility of creating an emergency fund with 3 conditions:\n",
    "if total_portfolio >  emergency_fund_value:\n",
    "    print(\"Congratulations, you have enough money in the fund\")\n",
    "elif total_portfolio == emergency_fund_value:\n",
    "    print(\"Congratulations, you have exactly enough and have reached this important financial goal\")\n",
    "else:\n",
    "    print(f\"you are ${(emergency_fund_value - total_portfolio)} from reaching your goal\")"
   ]
  },
  {
   "cell_type": "markdown",
   "metadata": {},
   "source": [
    "## Part 2: Create a Financial Planner for Retirement"
   ]
  },
  {
   "cell_type": "markdown",
   "metadata": {},
   "source": [
    "### Create the Monte Carlo Simulation\n",
    "\n",
    "In this section, you’ll use the MCForecastTools library to create a Monte Carlo simulation for the member’s savings portfolio. To do this, complete the following steps:\n",
    "\n",
    "1. Make an API call via the Alpaca SDK to get 10 years of historical closing prices for a traditional 60/40 portfolio split: 60% stocks (SPY) and 40% bonds (AGG).\n",
    "\n",
    "2. Run a Monte Carlo simulation of 500 samples and 30 years for the 60/40 portfolio, and then plot the results.The following image shows the overlay line plot resulting from a simulation with these characteristics. However, because a random number generator is used to run each live Monte Carlo simulation, your image will differ slightly from this exact image:\n",
    "\n",
    "![A screenshot depicts the resulting plot.](Images/5-4-monte-carlo-line-plot.png)\n",
    "\n",
    "3. Plot the probability distribution of the Monte Carlo simulation. Plot the probability distribution of the Monte Carlo simulation. The following image shows the histogram plot resulting from a simulation with these characteristics. However, because a random number generator is used to run each live Monte Carlo simulation, your image will differ slightly from this exact image:\n",
    "\n",
    "![A screenshot depicts the histogram plot.](Images/5-4-monte-carlo-histogram.png)\n",
    "\n",
    "4. Generate the summary statistics for the Monte Carlo simulation.\n",
    "\n"
   ]
  },
  {
   "cell_type": "markdown",
   "metadata": {},
   "source": [
    "#### Step 1: Make an API call via the Alpaca SDK to get 10 years of historical closing prices for a traditional 60/40 portfolio split: 60% stocks (SPY) and 40% bonds (AGG)."
   ]
  },
  {
   "cell_type": "code",
   "execution_count": 9,
   "metadata": {},
   "outputs": [],
   "source": [
    "# Set start and end dates of 10 years back from your current date\n",
    "# Alternatively, you can use an end date of 2020-08-07 and work 10 years back from that date\n",
    "start_date = pd.Timestamp(\"2011-02-07\", tz=\"America/New_York\").isoformat()\n",
    "end_date = pd.Timestamp(\"2021-02-07\", tz=\"America/New_York\").isoformat()"
   ]
  },
  {
   "cell_type": "code",
   "execution_count": 12,
   "metadata": {},
   "outputs": [
    {
     "data": {
      "text/html": [
       "<div>\n",
       "<style scoped>\n",
       "    .dataframe tbody tr th:only-of-type {\n",
       "        vertical-align: middle;\n",
       "    }\n",
       "\n",
       "    .dataframe tbody tr th {\n",
       "        vertical-align: top;\n",
       "    }\n",
       "\n",
       "    .dataframe thead tr th {\n",
       "        text-align: left;\n",
       "    }\n",
       "\n",
       "    .dataframe thead tr:last-of-type th {\n",
       "        text-align: right;\n",
       "    }\n",
       "</style>\n",
       "<table border=\"1\" class=\"dataframe\">\n",
       "  <thead>\n",
       "    <tr>\n",
       "      <th></th>\n",
       "      <th colspan=\"5\" halign=\"left\">AGG</th>\n",
       "      <th colspan=\"5\" halign=\"left\">SPY</th>\n",
       "    </tr>\n",
       "    <tr>\n",
       "      <th></th>\n",
       "      <th>open</th>\n",
       "      <th>high</th>\n",
       "      <th>low</th>\n",
       "      <th>close</th>\n",
       "      <th>volume</th>\n",
       "      <th>open</th>\n",
       "      <th>high</th>\n",
       "      <th>low</th>\n",
       "      <th>close</th>\n",
       "      <th>volume</th>\n",
       "    </tr>\n",
       "    <tr>\n",
       "      <th>time</th>\n",
       "      <th></th>\n",
       "      <th></th>\n",
       "      <th></th>\n",
       "      <th></th>\n",
       "      <th></th>\n",
       "      <th></th>\n",
       "      <th></th>\n",
       "      <th></th>\n",
       "      <th></th>\n",
       "      <th></th>\n",
       "    </tr>\n",
       "  </thead>\n",
       "  <tbody>\n",
       "    <tr>\n",
       "      <th>2017-02-16 00:00:00-05:00</th>\n",
       "      <td>108.01</td>\n",
       "      <td>108.280</td>\n",
       "      <td>108.0100</td>\n",
       "      <td>108.13</td>\n",
       "      <td>5104745</td>\n",
       "      <td>234.960</td>\n",
       "      <td>235.155</td>\n",
       "      <td>233.8500</td>\n",
       "      <td>234.73</td>\n",
       "      <td>66786200</td>\n",
       "    </tr>\n",
       "    <tr>\n",
       "      <th>2017-02-17 00:00:00-05:00</th>\n",
       "      <td>108.37</td>\n",
       "      <td>108.445</td>\n",
       "      <td>108.3200</td>\n",
       "      <td>108.37</td>\n",
       "      <td>2098583</td>\n",
       "      <td>233.950</td>\n",
       "      <td>235.070</td>\n",
       "      <td>233.9300</td>\n",
       "      <td>235.06</td>\n",
       "      <td>48329777</td>\n",
       "    </tr>\n",
       "    <tr>\n",
       "      <th>2017-02-21 00:00:00-05:00</th>\n",
       "      <td>108.24</td>\n",
       "      <td>108.450</td>\n",
       "      <td>108.2200</td>\n",
       "      <td>108.36</td>\n",
       "      <td>1806888</td>\n",
       "      <td>235.520</td>\n",
       "      <td>236.690</td>\n",
       "      <td>235.5100</td>\n",
       "      <td>236.45</td>\n",
       "      <td>52838456</td>\n",
       "    </tr>\n",
       "    <tr>\n",
       "      <th>2017-02-22 00:00:00-05:00</th>\n",
       "      <td>108.54</td>\n",
       "      <td>108.550</td>\n",
       "      <td>108.2000</td>\n",
       "      <td>108.45</td>\n",
       "      <td>2505309</td>\n",
       "      <td>236.020</td>\n",
       "      <td>236.540</td>\n",
       "      <td>235.8300</td>\n",
       "      <td>236.30</td>\n",
       "      <td>39266269</td>\n",
       "    </tr>\n",
       "    <tr>\n",
       "      <th>2017-02-23 00:00:00-05:00</th>\n",
       "      <td>108.56</td>\n",
       "      <td>108.645</td>\n",
       "      <td>108.5338</td>\n",
       "      <td>108.64</td>\n",
       "      <td>2005299</td>\n",
       "      <td>236.880</td>\n",
       "      <td>236.900</td>\n",
       "      <td>235.5600</td>\n",
       "      <td>236.45</td>\n",
       "      <td>62429211</td>\n",
       "    </tr>\n",
       "    <tr>\n",
       "      <th>...</th>\n",
       "      <td>...</td>\n",
       "      <td>...</td>\n",
       "      <td>...</td>\n",
       "      <td>...</td>\n",
       "      <td>...</td>\n",
       "      <td>...</td>\n",
       "      <td>...</td>\n",
       "      <td>...</td>\n",
       "      <td>...</td>\n",
       "      <td>...</td>\n",
       "    </tr>\n",
       "    <tr>\n",
       "      <th>2021-02-01 00:00:00-05:00</th>\n",
       "      <td>117.20</td>\n",
       "      <td>117.260</td>\n",
       "      <td>117.0915</td>\n",
       "      <td>117.21</td>\n",
       "      <td>5469814</td>\n",
       "      <td>373.720</td>\n",
       "      <td>377.340</td>\n",
       "      <td>370.3760</td>\n",
       "      <td>376.18</td>\n",
       "      <td>64056510</td>\n",
       "    </tr>\n",
       "    <tr>\n",
       "      <th>2021-02-02 00:00:00-05:00</th>\n",
       "      <td>116.99</td>\n",
       "      <td>117.090</td>\n",
       "      <td>116.9700</td>\n",
       "      <td>117.05</td>\n",
       "      <td>4694446</td>\n",
       "      <td>379.650</td>\n",
       "      <td>383.220</td>\n",
       "      <td>376.3181</td>\n",
       "      <td>381.54</td>\n",
       "      <td>53979346</td>\n",
       "    </tr>\n",
       "    <tr>\n",
       "      <th>2021-02-03 00:00:00-05:00</th>\n",
       "      <td>116.97</td>\n",
       "      <td>116.990</td>\n",
       "      <td>116.8700</td>\n",
       "      <td>116.89</td>\n",
       "      <td>5060310</td>\n",
       "      <td>382.435</td>\n",
       "      <td>383.700</td>\n",
       "      <td>380.4800</td>\n",
       "      <td>381.86</td>\n",
       "      <td>43305661</td>\n",
       "    </tr>\n",
       "    <tr>\n",
       "      <th>2021-02-04 00:00:00-05:00</th>\n",
       "      <td>116.75</td>\n",
       "      <td>116.890</td>\n",
       "      <td>116.6900</td>\n",
       "      <td>116.86</td>\n",
       "      <td>5128808</td>\n",
       "      <td>382.960</td>\n",
       "      <td>386.240</td>\n",
       "      <td>381.9655</td>\n",
       "      <td>386.17</td>\n",
       "      <td>40030930</td>\n",
       "    </tr>\n",
       "    <tr>\n",
       "      <th>2021-02-05 00:00:00-05:00</th>\n",
       "      <td>116.91</td>\n",
       "      <td>116.960</td>\n",
       "      <td>116.7000</td>\n",
       "      <td>116.72</td>\n",
       "      <td>3230833</td>\n",
       "      <td>388.200</td>\n",
       "      <td>388.470</td>\n",
       "      <td>386.1444</td>\n",
       "      <td>387.68</td>\n",
       "      <td>39312522</td>\n",
       "    </tr>\n",
       "  </tbody>\n",
       "</table>\n",
       "<p>1000 rows × 10 columns</p>\n",
       "</div>"
      ],
      "text/plain": [
       "                              AGG                                      \\\n",
       "                             open     high       low   close   volume   \n",
       "time                                                                    \n",
       "2017-02-16 00:00:00-05:00  108.01  108.280  108.0100  108.13  5104745   \n",
       "2017-02-17 00:00:00-05:00  108.37  108.445  108.3200  108.37  2098583   \n",
       "2017-02-21 00:00:00-05:00  108.24  108.450  108.2200  108.36  1806888   \n",
       "2017-02-22 00:00:00-05:00  108.54  108.550  108.2000  108.45  2505309   \n",
       "2017-02-23 00:00:00-05:00  108.56  108.645  108.5338  108.64  2005299   \n",
       "...                           ...      ...       ...     ...      ...   \n",
       "2021-02-01 00:00:00-05:00  117.20  117.260  117.0915  117.21  5469814   \n",
       "2021-02-02 00:00:00-05:00  116.99  117.090  116.9700  117.05  4694446   \n",
       "2021-02-03 00:00:00-05:00  116.97  116.990  116.8700  116.89  5060310   \n",
       "2021-02-04 00:00:00-05:00  116.75  116.890  116.6900  116.86  5128808   \n",
       "2021-02-05 00:00:00-05:00  116.91  116.960  116.7000  116.72  3230833   \n",
       "\n",
       "                               SPY                                       \n",
       "                              open     high       low   close    volume  \n",
       "time                                                                     \n",
       "2017-02-16 00:00:00-05:00  234.960  235.155  233.8500  234.73  66786200  \n",
       "2017-02-17 00:00:00-05:00  233.950  235.070  233.9300  235.06  48329777  \n",
       "2017-02-21 00:00:00-05:00  235.520  236.690  235.5100  236.45  52838456  \n",
       "2017-02-22 00:00:00-05:00  236.020  236.540  235.8300  236.30  39266269  \n",
       "2017-02-23 00:00:00-05:00  236.880  236.900  235.5600  236.45  62429211  \n",
       "...                            ...      ...       ...     ...       ...  \n",
       "2021-02-01 00:00:00-05:00  373.720  377.340  370.3760  376.18  64056510  \n",
       "2021-02-02 00:00:00-05:00  379.650  383.220  376.3181  381.54  53979346  \n",
       "2021-02-03 00:00:00-05:00  382.435  383.700  380.4800  381.86  43305661  \n",
       "2021-02-04 00:00:00-05:00  382.960  386.240  381.9655  386.17  40030930  \n",
       "2021-02-05 00:00:00-05:00  388.200  388.470  386.1444  387.68  39312522  \n",
       "\n",
       "[1000 rows x 10 columns]"
      ]
     },
     "execution_count": 12,
     "metadata": {},
     "output_type": "execute_result"
    }
   ],
   "source": [
    "# Use the Alpaca get_barset function to make the API call to get the 10 years worth of pricing data\n",
    "# The tickers and timeframe parameters should have been set in Part 1 of this activity \n",
    "# The start and end dates should be updated with the information set above\n",
    "# Remember to add the df property to the end of the call so the response is returned as a DataFrame\n",
    "monte_prices_df1 = alpaca.get_barset(\n",
    "    tickers,\n",
    "    timeframe,\n",
    "    start=start_date,\n",
    "    end=end_date,\n",
    "    limit=1000\n",
    ").df\n",
    "\n",
    "\n",
    "# Display both the first and last five rows of the DataFrame\n",
    "monte_prices_df1"
   ]
  },
  {
   "cell_type": "markdown",
   "metadata": {},
   "source": [
    "### NOTE FOR GRADER:\n",
    "Alpaca updated their API, making it impossible to pull 10 years of historical data in a singular dataframe (now they're limiting users to 1000 rows of data per dataframe - roughly 3 years)"
   ]
  },
  {
   "cell_type": "markdown",
   "metadata": {},
   "source": [
    "#### Step 2: Run a Monte Carlo simulation of 500 samples and 30 years for the 60/40 portfolio, and then plot the results."
   ]
  },
  {
   "cell_type": "code",
   "execution_count": 29,
   "metadata": {},
   "outputs": [
    {
     "data": {
      "text/html": [
       "<div>\n",
       "<style scoped>\n",
       "    .dataframe tbody tr th:only-of-type {\n",
       "        vertical-align: middle;\n",
       "    }\n",
       "\n",
       "    .dataframe tbody tr th {\n",
       "        vertical-align: top;\n",
       "    }\n",
       "\n",
       "    .dataframe thead tr th {\n",
       "        text-align: left;\n",
       "    }\n",
       "\n",
       "    .dataframe thead tr:last-of-type th {\n",
       "        text-align: right;\n",
       "    }\n",
       "</style>\n",
       "<table border=\"1\" class=\"dataframe\">\n",
       "  <thead>\n",
       "    <tr>\n",
       "      <th></th>\n",
       "      <th colspan=\"6\" halign=\"left\">AGG</th>\n",
       "      <th colspan=\"6\" halign=\"left\">SPY</th>\n",
       "    </tr>\n",
       "    <tr>\n",
       "      <th></th>\n",
       "      <th>open</th>\n",
       "      <th>high</th>\n",
       "      <th>low</th>\n",
       "      <th>close</th>\n",
       "      <th>volume</th>\n",
       "      <th>daily_return</th>\n",
       "      <th>open</th>\n",
       "      <th>high</th>\n",
       "      <th>low</th>\n",
       "      <th>close</th>\n",
       "      <th>volume</th>\n",
       "      <th>daily_return</th>\n",
       "    </tr>\n",
       "    <tr>\n",
       "      <th>time</th>\n",
       "      <th></th>\n",
       "      <th></th>\n",
       "      <th></th>\n",
       "      <th></th>\n",
       "      <th></th>\n",
       "      <th></th>\n",
       "      <th></th>\n",
       "      <th></th>\n",
       "      <th></th>\n",
       "      <th></th>\n",
       "      <th></th>\n",
       "      <th></th>\n",
       "    </tr>\n",
       "  </thead>\n",
       "  <tbody>\n",
       "    <tr>\n",
       "      <th>2017-02-16 00:00:00-05:00</th>\n",
       "      <td>108.01</td>\n",
       "      <td>108.280</td>\n",
       "      <td>108.0100</td>\n",
       "      <td>108.13</td>\n",
       "      <td>5104745</td>\n",
       "      <td>NaN</td>\n",
       "      <td>234.96</td>\n",
       "      <td>235.155</td>\n",
       "      <td>233.85</td>\n",
       "      <td>234.73</td>\n",
       "      <td>66786200</td>\n",
       "      <td>NaN</td>\n",
       "    </tr>\n",
       "    <tr>\n",
       "      <th>2017-02-17 00:00:00-05:00</th>\n",
       "      <td>108.37</td>\n",
       "      <td>108.445</td>\n",
       "      <td>108.3200</td>\n",
       "      <td>108.37</td>\n",
       "      <td>2098583</td>\n",
       "      <td>0.002220</td>\n",
       "      <td>233.95</td>\n",
       "      <td>235.070</td>\n",
       "      <td>233.93</td>\n",
       "      <td>235.06</td>\n",
       "      <td>48329777</td>\n",
       "      <td>0.001406</td>\n",
       "    </tr>\n",
       "    <tr>\n",
       "      <th>2017-02-21 00:00:00-05:00</th>\n",
       "      <td>108.24</td>\n",
       "      <td>108.450</td>\n",
       "      <td>108.2200</td>\n",
       "      <td>108.36</td>\n",
       "      <td>1806888</td>\n",
       "      <td>-0.000092</td>\n",
       "      <td>235.52</td>\n",
       "      <td>236.690</td>\n",
       "      <td>235.51</td>\n",
       "      <td>236.45</td>\n",
       "      <td>52838456</td>\n",
       "      <td>0.005913</td>\n",
       "    </tr>\n",
       "    <tr>\n",
       "      <th>2017-02-22 00:00:00-05:00</th>\n",
       "      <td>108.54</td>\n",
       "      <td>108.550</td>\n",
       "      <td>108.2000</td>\n",
       "      <td>108.45</td>\n",
       "      <td>2505309</td>\n",
       "      <td>0.000831</td>\n",
       "      <td>236.02</td>\n",
       "      <td>236.540</td>\n",
       "      <td>235.83</td>\n",
       "      <td>236.30</td>\n",
       "      <td>39266269</td>\n",
       "      <td>-0.000634</td>\n",
       "    </tr>\n",
       "    <tr>\n",
       "      <th>2017-02-23 00:00:00-05:00</th>\n",
       "      <td>108.56</td>\n",
       "      <td>108.645</td>\n",
       "      <td>108.5338</td>\n",
       "      <td>108.64</td>\n",
       "      <td>2005299</td>\n",
       "      <td>0.001752</td>\n",
       "      <td>236.88</td>\n",
       "      <td>236.900</td>\n",
       "      <td>235.56</td>\n",
       "      <td>236.45</td>\n",
       "      <td>62429211</td>\n",
       "      <td>0.000635</td>\n",
       "    </tr>\n",
       "  </tbody>\n",
       "</table>\n",
       "</div>"
      ],
      "text/plain": [
       "                              AGG                                      \\\n",
       "                             open     high       low   close   volume   \n",
       "time                                                                    \n",
       "2017-02-16 00:00:00-05:00  108.01  108.280  108.0100  108.13  5104745   \n",
       "2017-02-17 00:00:00-05:00  108.37  108.445  108.3200  108.37  2098583   \n",
       "2017-02-21 00:00:00-05:00  108.24  108.450  108.2200  108.36  1806888   \n",
       "2017-02-22 00:00:00-05:00  108.54  108.550  108.2000  108.45  2505309   \n",
       "2017-02-23 00:00:00-05:00  108.56  108.645  108.5338  108.64  2005299   \n",
       "\n",
       "                                           SPY                           \\\n",
       "                          daily_return    open     high     low   close   \n",
       "time                                                                      \n",
       "2017-02-16 00:00:00-05:00          NaN  234.96  235.155  233.85  234.73   \n",
       "2017-02-17 00:00:00-05:00     0.002220  233.95  235.070  233.93  235.06   \n",
       "2017-02-21 00:00:00-05:00    -0.000092  235.52  236.690  235.51  236.45   \n",
       "2017-02-22 00:00:00-05:00     0.000831  236.02  236.540  235.83  236.30   \n",
       "2017-02-23 00:00:00-05:00     0.001752  236.88  236.900  235.56  236.45   \n",
       "\n",
       "                                                  \n",
       "                             volume daily_return  \n",
       "time                                              \n",
       "2017-02-16 00:00:00-05:00  66786200          NaN  \n",
       "2017-02-17 00:00:00-05:00  48329777     0.001406  \n",
       "2017-02-21 00:00:00-05:00  52838456     0.005913  \n",
       "2017-02-22 00:00:00-05:00  39266269    -0.000634  \n",
       "2017-02-23 00:00:00-05:00  62429211     0.000635  "
      ]
     },
     "execution_count": 29,
     "metadata": {},
     "output_type": "execute_result"
    }
   ],
   "source": [
    "# Configure the Monte Carlo simulation to forecast 30 years cumulative returns\n",
    "# The weights should be split 40% to AGG and 60% to SPY.\n",
    "# Run 500 samples.\n",
    "MC_fortysixty = MCSimulation(\n",
    "    portfolio_data = monte_prices_df1,\n",
    "    weights = [.4,.6],\n",
    "    num_simulation = 500,\n",
    "    num_trading_days = 252*30\n",
    ")\n",
    "\n",
    "# Review the simulation input data\n",
    "MC_fortysixty.portfolio_data.head()"
   ]
  },
  {
   "cell_type": "code",
   "execution_count": 30,
   "metadata": {},
   "outputs": [
    {
     "name": "stdout",
     "output_type": "stream",
     "text": [
      "Running Monte Carlo simulation number 0.\n",
      "Running Monte Carlo simulation number 10.\n",
      "Running Monte Carlo simulation number 20.\n",
      "Running Monte Carlo simulation number 30.\n",
      "Running Monte Carlo simulation number 40.\n",
      "Running Monte Carlo simulation number 50.\n",
      "Running Monte Carlo simulation number 60.\n",
      "Running Monte Carlo simulation number 70.\n",
      "Running Monte Carlo simulation number 80.\n",
      "Running Monte Carlo simulation number 90.\n",
      "Running Monte Carlo simulation number 100.\n",
      "Running Monte Carlo simulation number 110.\n",
      "Running Monte Carlo simulation number 120.\n",
      "Running Monte Carlo simulation number 130.\n",
      "Running Monte Carlo simulation number 140.\n",
      "Running Monte Carlo simulation number 150.\n",
      "Running Monte Carlo simulation number 160.\n",
      "Running Monte Carlo simulation number 170.\n",
      "Running Monte Carlo simulation number 180.\n",
      "Running Monte Carlo simulation number 190.\n",
      "Running Monte Carlo simulation number 200.\n",
      "Running Monte Carlo simulation number 210.\n",
      "Running Monte Carlo simulation number 220.\n",
      "Running Monte Carlo simulation number 230.\n",
      "Running Monte Carlo simulation number 240.\n",
      "Running Monte Carlo simulation number 250.\n",
      "Running Monte Carlo simulation number 260.\n",
      "Running Monte Carlo simulation number 270.\n",
      "Running Monte Carlo simulation number 280.\n",
      "Running Monte Carlo simulation number 290.\n",
      "Running Monte Carlo simulation number 300.\n",
      "Running Monte Carlo simulation number 310.\n",
      "Running Monte Carlo simulation number 320.\n",
      "Running Monte Carlo simulation number 330.\n",
      "Running Monte Carlo simulation number 340.\n",
      "Running Monte Carlo simulation number 350.\n",
      "Running Monte Carlo simulation number 360.\n",
      "Running Monte Carlo simulation number 370.\n",
      "Running Monte Carlo simulation number 380.\n",
      "Running Monte Carlo simulation number 390.\n",
      "Running Monte Carlo simulation number 400.\n",
      "Running Monte Carlo simulation number 410.\n",
      "Running Monte Carlo simulation number 420.\n",
      "Running Monte Carlo simulation number 430.\n",
      "Running Monte Carlo simulation number 440.\n",
      "Running Monte Carlo simulation number 450.\n",
      "Running Monte Carlo simulation number 460.\n",
      "Running Monte Carlo simulation number 470.\n",
      "Running Monte Carlo simulation number 480.\n",
      "Running Monte Carlo simulation number 490.\n"
     ]
    },
    {
     "data": {
      "text/html": [
       "<div>\n",
       "<style scoped>\n",
       "    .dataframe tbody tr th:only-of-type {\n",
       "        vertical-align: middle;\n",
       "    }\n",
       "\n",
       "    .dataframe tbody tr th {\n",
       "        vertical-align: top;\n",
       "    }\n",
       "\n",
       "    .dataframe thead th {\n",
       "        text-align: right;\n",
       "    }\n",
       "</style>\n",
       "<table border=\"1\" class=\"dataframe\">\n",
       "  <thead>\n",
       "    <tr style=\"text-align: right;\">\n",
       "      <th></th>\n",
       "      <th>0</th>\n",
       "      <th>1</th>\n",
       "      <th>2</th>\n",
       "      <th>3</th>\n",
       "      <th>4</th>\n",
       "      <th>5</th>\n",
       "      <th>6</th>\n",
       "      <th>7</th>\n",
       "      <th>8</th>\n",
       "      <th>9</th>\n",
       "      <th>...</th>\n",
       "      <th>490</th>\n",
       "      <th>491</th>\n",
       "      <th>492</th>\n",
       "      <th>493</th>\n",
       "      <th>494</th>\n",
       "      <th>495</th>\n",
       "      <th>496</th>\n",
       "      <th>497</th>\n",
       "      <th>498</th>\n",
       "      <th>499</th>\n",
       "    </tr>\n",
       "  </thead>\n",
       "  <tbody>\n",
       "    <tr>\n",
       "      <th>0</th>\n",
       "      <td>1.000000</td>\n",
       "      <td>1.000000</td>\n",
       "      <td>1.000000</td>\n",
       "      <td>1.000000</td>\n",
       "      <td>1.000000</td>\n",
       "      <td>1.000000</td>\n",
       "      <td>1.000000</td>\n",
       "      <td>1.000000</td>\n",
       "      <td>1.000000</td>\n",
       "      <td>1.000000</td>\n",
       "      <td>...</td>\n",
       "      <td>1.000000</td>\n",
       "      <td>1.000000</td>\n",
       "      <td>1.000000</td>\n",
       "      <td>1.000000</td>\n",
       "      <td>1.000000</td>\n",
       "      <td>1.000000</td>\n",
       "      <td>1.000000</td>\n",
       "      <td>1.000000</td>\n",
       "      <td>1.000000</td>\n",
       "      <td>1.000000</td>\n",
       "    </tr>\n",
       "    <tr>\n",
       "      <th>1</th>\n",
       "      <td>1.016562</td>\n",
       "      <td>1.008139</td>\n",
       "      <td>0.990733</td>\n",
       "      <td>1.008575</td>\n",
       "      <td>0.998010</td>\n",
       "      <td>1.005205</td>\n",
       "      <td>0.994584</td>\n",
       "      <td>1.006821</td>\n",
       "      <td>0.991552</td>\n",
       "      <td>0.996544</td>\n",
       "      <td>...</td>\n",
       "      <td>0.988404</td>\n",
       "      <td>0.988344</td>\n",
       "      <td>0.988514</td>\n",
       "      <td>1.001476</td>\n",
       "      <td>1.009973</td>\n",
       "      <td>1.005033</td>\n",
       "      <td>0.997601</td>\n",
       "      <td>1.006019</td>\n",
       "      <td>0.994339</td>\n",
       "      <td>1.006863</td>\n",
       "    </tr>\n",
       "    <tr>\n",
       "      <th>2</th>\n",
       "      <td>1.007406</td>\n",
       "      <td>1.006254</td>\n",
       "      <td>0.994824</td>\n",
       "      <td>1.003004</td>\n",
       "      <td>1.001613</td>\n",
       "      <td>1.009273</td>\n",
       "      <td>0.999137</td>\n",
       "      <td>1.006037</td>\n",
       "      <td>0.992918</td>\n",
       "      <td>0.992065</td>\n",
       "      <td>...</td>\n",
       "      <td>0.991461</td>\n",
       "      <td>0.989610</td>\n",
       "      <td>0.998661</td>\n",
       "      <td>1.007389</td>\n",
       "      <td>1.013500</td>\n",
       "      <td>0.995144</td>\n",
       "      <td>0.993094</td>\n",
       "      <td>1.035413</td>\n",
       "      <td>0.992699</td>\n",
       "      <td>1.018837</td>\n",
       "    </tr>\n",
       "    <tr>\n",
       "      <th>3</th>\n",
       "      <td>1.000194</td>\n",
       "      <td>0.999779</td>\n",
       "      <td>0.997333</td>\n",
       "      <td>0.996542</td>\n",
       "      <td>1.013933</td>\n",
       "      <td>1.012074</td>\n",
       "      <td>1.009508</td>\n",
       "      <td>1.019218</td>\n",
       "      <td>0.996186</td>\n",
       "      <td>0.990639</td>\n",
       "      <td>...</td>\n",
       "      <td>0.993397</td>\n",
       "      <td>0.992356</td>\n",
       "      <td>1.009572</td>\n",
       "      <td>1.015136</td>\n",
       "      <td>1.012871</td>\n",
       "      <td>0.993632</td>\n",
       "      <td>0.979563</td>\n",
       "      <td>1.046771</td>\n",
       "      <td>0.980478</td>\n",
       "      <td>1.026081</td>\n",
       "    </tr>\n",
       "    <tr>\n",
       "      <th>4</th>\n",
       "      <td>0.994555</td>\n",
       "      <td>0.985098</td>\n",
       "      <td>0.988881</td>\n",
       "      <td>0.994100</td>\n",
       "      <td>1.008430</td>\n",
       "      <td>1.000083</td>\n",
       "      <td>1.004421</td>\n",
       "      <td>1.016712</td>\n",
       "      <td>0.995773</td>\n",
       "      <td>0.995195</td>\n",
       "      <td>...</td>\n",
       "      <td>1.001561</td>\n",
       "      <td>0.983038</td>\n",
       "      <td>1.012533</td>\n",
       "      <td>1.017763</td>\n",
       "      <td>1.033785</td>\n",
       "      <td>0.991562</td>\n",
       "      <td>0.975708</td>\n",
       "      <td>1.038840</td>\n",
       "      <td>0.977403</td>\n",
       "      <td>1.018887</td>\n",
       "    </tr>\n",
       "    <tr>\n",
       "      <th>...</th>\n",
       "      <td>...</td>\n",
       "      <td>...</td>\n",
       "      <td>...</td>\n",
       "      <td>...</td>\n",
       "      <td>...</td>\n",
       "      <td>...</td>\n",
       "      <td>...</td>\n",
       "      <td>...</td>\n",
       "      <td>...</td>\n",
       "      <td>...</td>\n",
       "      <td>...</td>\n",
       "      <td>...</td>\n",
       "      <td>...</td>\n",
       "      <td>...</td>\n",
       "      <td>...</td>\n",
       "      <td>...</td>\n",
       "      <td>...</td>\n",
       "      <td>...</td>\n",
       "      <td>...</td>\n",
       "      <td>...</td>\n",
       "      <td>...</td>\n",
       "    </tr>\n",
       "    <tr>\n",
       "      <th>7556</th>\n",
       "      <td>14.908281</td>\n",
       "      <td>30.573748</td>\n",
       "      <td>17.734407</td>\n",
       "      <td>18.579442</td>\n",
       "      <td>10.832813</td>\n",
       "      <td>18.577173</td>\n",
       "      <td>141.647602</td>\n",
       "      <td>12.611448</td>\n",
       "      <td>17.636868</td>\n",
       "      <td>7.353202</td>\n",
       "      <td>...</td>\n",
       "      <td>22.498649</td>\n",
       "      <td>56.874807</td>\n",
       "      <td>60.401182</td>\n",
       "      <td>13.735341</td>\n",
       "      <td>12.177744</td>\n",
       "      <td>34.253751</td>\n",
       "      <td>8.791750</td>\n",
       "      <td>13.354013</td>\n",
       "      <td>25.400199</td>\n",
       "      <td>19.789756</td>\n",
       "    </tr>\n",
       "    <tr>\n",
       "      <th>7557</th>\n",
       "      <td>15.044914</td>\n",
       "      <td>30.716731</td>\n",
       "      <td>17.636707</td>\n",
       "      <td>18.693117</td>\n",
       "      <td>10.816771</td>\n",
       "      <td>18.554996</td>\n",
       "      <td>141.290594</td>\n",
       "      <td>12.527683</td>\n",
       "      <td>17.497426</td>\n",
       "      <td>7.374637</td>\n",
       "      <td>...</td>\n",
       "      <td>22.513888</td>\n",
       "      <td>56.951656</td>\n",
       "      <td>60.935130</td>\n",
       "      <td>13.734824</td>\n",
       "      <td>12.111249</td>\n",
       "      <td>34.365419</td>\n",
       "      <td>8.802436</td>\n",
       "      <td>13.320498</td>\n",
       "      <td>25.653938</td>\n",
       "      <td>19.944522</td>\n",
       "    </tr>\n",
       "    <tr>\n",
       "      <th>7558</th>\n",
       "      <td>15.082033</td>\n",
       "      <td>30.492816</td>\n",
       "      <td>17.597486</td>\n",
       "      <td>18.394644</td>\n",
       "      <td>10.829919</td>\n",
       "      <td>18.668581</td>\n",
       "      <td>140.379873</td>\n",
       "      <td>12.499406</td>\n",
       "      <td>17.508236</td>\n",
       "      <td>7.353304</td>\n",
       "      <td>...</td>\n",
       "      <td>22.916015</td>\n",
       "      <td>57.994871</td>\n",
       "      <td>60.578881</td>\n",
       "      <td>13.607653</td>\n",
       "      <td>12.200723</td>\n",
       "      <td>34.497317</td>\n",
       "      <td>8.792938</td>\n",
       "      <td>13.416572</td>\n",
       "      <td>25.407225</td>\n",
       "      <td>19.757831</td>\n",
       "    </tr>\n",
       "    <tr>\n",
       "      <th>7559</th>\n",
       "      <td>14.947808</td>\n",
       "      <td>30.697112</td>\n",
       "      <td>17.726015</td>\n",
       "      <td>18.227120</td>\n",
       "      <td>10.713387</td>\n",
       "      <td>18.578117</td>\n",
       "      <td>141.469430</td>\n",
       "      <td>12.592883</td>\n",
       "      <td>17.444160</td>\n",
       "      <td>7.312075</td>\n",
       "      <td>...</td>\n",
       "      <td>22.676616</td>\n",
       "      <td>58.035204</td>\n",
       "      <td>60.298222</td>\n",
       "      <td>13.712392</td>\n",
       "      <td>12.193935</td>\n",
       "      <td>34.313967</td>\n",
       "      <td>8.724088</td>\n",
       "      <td>13.320079</td>\n",
       "      <td>25.246400</td>\n",
       "      <td>19.848976</td>\n",
       "    </tr>\n",
       "    <tr>\n",
       "      <th>7560</th>\n",
       "      <td>14.966398</td>\n",
       "      <td>30.657214</td>\n",
       "      <td>17.840034</td>\n",
       "      <td>18.107732</td>\n",
       "      <td>10.604260</td>\n",
       "      <td>18.515927</td>\n",
       "      <td>140.965361</td>\n",
       "      <td>12.594095</td>\n",
       "      <td>17.527179</td>\n",
       "      <td>7.304107</td>\n",
       "      <td>...</td>\n",
       "      <td>22.650159</td>\n",
       "      <td>57.863060</td>\n",
       "      <td>60.366518</td>\n",
       "      <td>13.767309</td>\n",
       "      <td>12.281596</td>\n",
       "      <td>34.181324</td>\n",
       "      <td>8.691669</td>\n",
       "      <td>13.300310</td>\n",
       "      <td>25.024070</td>\n",
       "      <td>19.754088</td>\n",
       "    </tr>\n",
       "  </tbody>\n",
       "</table>\n",
       "<p>7561 rows × 500 columns</p>\n",
       "</div>"
      ],
      "text/plain": [
       "            0          1          2          3          4          5    \\\n",
       "0      1.000000   1.000000   1.000000   1.000000   1.000000   1.000000   \n",
       "1      1.016562   1.008139   0.990733   1.008575   0.998010   1.005205   \n",
       "2      1.007406   1.006254   0.994824   1.003004   1.001613   1.009273   \n",
       "3      1.000194   0.999779   0.997333   0.996542   1.013933   1.012074   \n",
       "4      0.994555   0.985098   0.988881   0.994100   1.008430   1.000083   \n",
       "...         ...        ...        ...        ...        ...        ...   \n",
       "7556  14.908281  30.573748  17.734407  18.579442  10.832813  18.577173   \n",
       "7557  15.044914  30.716731  17.636707  18.693117  10.816771  18.554996   \n",
       "7558  15.082033  30.492816  17.597486  18.394644  10.829919  18.668581   \n",
       "7559  14.947808  30.697112  17.726015  18.227120  10.713387  18.578117   \n",
       "7560  14.966398  30.657214  17.840034  18.107732  10.604260  18.515927   \n",
       "\n",
       "             6          7          8         9    ...        490        491  \\\n",
       "0       1.000000   1.000000   1.000000  1.000000  ...   1.000000   1.000000   \n",
       "1       0.994584   1.006821   0.991552  0.996544  ...   0.988404   0.988344   \n",
       "2       0.999137   1.006037   0.992918  0.992065  ...   0.991461   0.989610   \n",
       "3       1.009508   1.019218   0.996186  0.990639  ...   0.993397   0.992356   \n",
       "4       1.004421   1.016712   0.995773  0.995195  ...   1.001561   0.983038   \n",
       "...          ...        ...        ...       ...  ...        ...        ...   \n",
       "7556  141.647602  12.611448  17.636868  7.353202  ...  22.498649  56.874807   \n",
       "7557  141.290594  12.527683  17.497426  7.374637  ...  22.513888  56.951656   \n",
       "7558  140.379873  12.499406  17.508236  7.353304  ...  22.916015  57.994871   \n",
       "7559  141.469430  12.592883  17.444160  7.312075  ...  22.676616  58.035204   \n",
       "7560  140.965361  12.594095  17.527179  7.304107  ...  22.650159  57.863060   \n",
       "\n",
       "            492        493        494        495       496        497  \\\n",
       "0      1.000000   1.000000   1.000000   1.000000  1.000000   1.000000   \n",
       "1      0.988514   1.001476   1.009973   1.005033  0.997601   1.006019   \n",
       "2      0.998661   1.007389   1.013500   0.995144  0.993094   1.035413   \n",
       "3      1.009572   1.015136   1.012871   0.993632  0.979563   1.046771   \n",
       "4      1.012533   1.017763   1.033785   0.991562  0.975708   1.038840   \n",
       "...         ...        ...        ...        ...       ...        ...   \n",
       "7556  60.401182  13.735341  12.177744  34.253751  8.791750  13.354013   \n",
       "7557  60.935130  13.734824  12.111249  34.365419  8.802436  13.320498   \n",
       "7558  60.578881  13.607653  12.200723  34.497317  8.792938  13.416572   \n",
       "7559  60.298222  13.712392  12.193935  34.313967  8.724088  13.320079   \n",
       "7560  60.366518  13.767309  12.281596  34.181324  8.691669  13.300310   \n",
       "\n",
       "            498        499  \n",
       "0      1.000000   1.000000  \n",
       "1      0.994339   1.006863  \n",
       "2      0.992699   1.018837  \n",
       "3      0.980478   1.026081  \n",
       "4      0.977403   1.018887  \n",
       "...         ...        ...  \n",
       "7556  25.400199  19.789756  \n",
       "7557  25.653938  19.944522  \n",
       "7558  25.407225  19.757831  \n",
       "7559  25.246400  19.848976  \n",
       "7560  25.024070  19.754088  \n",
       "\n",
       "[7561 rows x 500 columns]"
      ]
     },
     "execution_count": 30,
     "metadata": {},
     "output_type": "execute_result"
    }
   ],
   "source": [
    "# Run the Monte Carlo simulation to forecast 30 years cumulative returns\n",
    "MC_fortysixty.calc_cumulative_return()"
   ]
  },
  {
   "cell_type": "code",
   "execution_count": 31,
   "metadata": {},
   "outputs": [
    {
     "data": {
      "image/png": "[encoded data removed]",
      "text/plain": [
       "<Figure size 432x288 with 1 Axes>"
      ]
     },
     "metadata": {
      "needs_background": "light"
     },
     "output_type": "display_data"
    }
   ],
   "source": [
    "# Visualize the 30-year Monte Carlo simulation by creating an\n",
    "# overlay line plot\n",
    "forty_sixty_plot = MC_fortysixty.plot_simulation()"
   ]
  },
  {
   "cell_type": "markdown",
   "metadata": {},
   "source": [
    "#### Step 3: Plot the probability distribution of the Monte Carlo simulation."
   ]
  },
  {
   "cell_type": "code",
   "execution_count": 34,
   "metadata": {},
   "outputs": [
    {
     "data": {
      "image/png": "[encoded data removed]",
      "text/plain": [
       "<Figure size 432x288 with 1 Axes>"
      ]
     },
     "metadata": {
      "needs_background": "light"
     },
     "output_type": "display_data"
    }
   ],
   "source": [
    "# Visualize the probability distribution of the 30-year Monte Carlo simulation \n",
    "# by plotting a histogram\n",
    "forty_sixty_distribution_plot = MC_fortysixty.plot_distribution()"
   ]
  },
  {
   "cell_type": "markdown",
   "metadata": {},
   "source": [
    "#### Step 4: Generate the summary statistics for the Monte Carlo simulation."
   ]
  },
  {
   "cell_type": "code",
   "execution_count": 35,
   "metadata": {},
   "outputs": [
    {
     "name": "stdout",
     "output_type": "stream",
     "text": [
      "count           500.000000\n",
      "mean             19.092241\n",
      "std              15.839970\n",
      "min               1.612385\n",
      "25%               9.370093\n",
      "50%              14.396776\n",
      "75%              23.206988\n",
      "max             140.965361\n",
      "95% CI Lower      4.081172\n",
      "95% CI Upper     61.085962\n",
      "Name: 7560, dtype: float64\n"
     ]
    }
   ],
   "source": [
    "# Generate summary statistics from the 30-year Monte Carlo simulation results\n",
    "# Save the results as a variable\n",
    "forty_sixty_table = MC_fortysixty.summarize_cumulative_return()\n",
    "\n",
    "\n",
    "# Review the 30-year Monte Carlo summary statistics\n",
    "print(forty_sixty_table)"
   ]
  },
  {
   "cell_type": "markdown",
   "metadata": {},
   "source": [
    "### Analyze the Retirement Portfolio Forecasts\n",
    "\n",
    "Using the current value of only the stock and bond portion of the member's portfolio and the summary statistics that you generated from the Monte Carlo simulation, answer the following question in your Jupyter notebook:\n",
    "\n",
    "-  What are the lower and upper bounds for the expected value of the portfolio with a 95% confidence interval?\n"
   ]
  },
  {
   "cell_type": "code",
   "execution_count": 67,
   "metadata": {},
   "outputs": [
    {
     "name": "stdout",
     "output_type": "stream",
     "text": [
      "60689.5\n"
     ]
    }
   ],
   "source": [
    "# Print the current balance of the stock and bond portion of the members portfolio\n",
    "print(total_stocks_bonds)"
   ]
  },
  {
   "cell_type": "code",
   "execution_count": 69,
   "metadata": {},
   "outputs": [
    {
     "name": "stdout",
     "output_type": "stream",
     "text": [
      "There is a 95% chance that an initial investment of $60689.5 in the portfolio with a split 40% to AGG and 60% to SPY in 30 years will end within in the range of $247684.29 and $3707276.48.\n"
     ]
    }
   ],
   "source": [
    "# Use the lower and upper `95%` confidence intervals to calculate the range of the possible outcomes for the current stock/bond portfolio\n",
    "ci_lower_thirty_cumulative_return = round(forty_sixty_table[8]*total_stocks_bonds,2)\n",
    "ci_upper_thirty_cumulative_return = round(forty_sixty_table[9]*total_stocks_bonds,2)\n",
    "\n",
    "# Print the result of your calculations\n",
    "print(f\"There is a 95% chance that an initial investment of ${total_stocks_bonds} in the portfolio\"\n",
    "      f\" with a split 40% to AGG and 60% to SPY in 30 years will end within in the range of\"\n",
    "      f\" ${ci_lower_thirty_cumulative_return} and ${ci_upper_thirty_cumulative_return}.\")"
   ]
  },
  {
   "cell_type": "markdown",
   "metadata": {},
   "source": [
    "### Forecast Cumulative Returns in 10 Years\n",
    "\n",
    "The CTO of the credit union is impressed with your work on these planning tools but wonders if 30 years is a long time to wait until retirement. So, your next task is to adjust the retirement portfolio and run a new Monte Carlo simulation to find out if the changes will allow members to retire earlier.\n",
    "\n",
    "For this new Monte Carlo simulation, do the following: \n",
    "\n",
    "- Forecast the cumulative returns for 10 years from now. Because of the shortened investment horizon (30 years to 10 years), the portfolio needs to invest more heavily in the riskier asset&mdash;that is, stock&mdash;to help accumulate wealth for retirement. \n",
    "\n",
    "- Adjust the weights of the retirement portfolio so that the composition for the Monte Carlo simulation consists of 20% bonds and 80% stocks. \n",
    "\n",
    "- Run the simulation over 500 samples, and use the same data that the API call to Alpaca generated.\n",
    "\n",
    "- Based on the new Monte Carlo simulation, answer the following questions in your Jupyter notebook:\n",
    "\n",
    "    - Using the current value of only the stock and bond portion of the member's portfolio and the summary statistics that you generated from the new Monte Carlo simulation, what are the lower and upper bounds for the expected value of the portfolio (with the new weights) with a 95% confidence interval?\n",
    "\n",
    "    - Will weighting the portfolio more heavily toward stocks allow the credit union members to retire after only 10 years?\n"
   ]
  },
  {
   "cell_type": "code",
   "execution_count": 70,
   "metadata": {},
   "outputs": [
    {
     "data": {
      "text/html": [
       "<div>\n",
       "<style scoped>\n",
       "    .dataframe tbody tr th:only-of-type {\n",
       "        vertical-align: middle;\n",
       "    }\n",
       "\n",
       "    .dataframe tbody tr th {\n",
       "        vertical-align: top;\n",
       "    }\n",
       "\n",
       "    .dataframe thead tr th {\n",
       "        text-align: left;\n",
       "    }\n",
       "\n",
       "    .dataframe thead tr:last-of-type th {\n",
       "        text-align: right;\n",
       "    }\n",
       "</style>\n",
       "<table border=\"1\" class=\"dataframe\">\n",
       "  <thead>\n",
       "    <tr>\n",
       "      <th></th>\n",
       "      <th colspan=\"6\" halign=\"left\">AGG</th>\n",
       "      <th colspan=\"6\" halign=\"left\">SPY</th>\n",
       "    </tr>\n",
       "    <tr>\n",
       "      <th></th>\n",
       "      <th>open</th>\n",
       "      <th>high</th>\n",
       "      <th>low</th>\n",
       "      <th>close</th>\n",
       "      <th>volume</th>\n",
       "      <th>daily_return</th>\n",
       "      <th>open</th>\n",
       "      <th>high</th>\n",
       "      <th>low</th>\n",
       "      <th>close</th>\n",
       "      <th>volume</th>\n",
       "      <th>daily_return</th>\n",
       "    </tr>\n",
       "    <tr>\n",
       "      <th>time</th>\n",
       "      <th></th>\n",
       "      <th></th>\n",
       "      <th></th>\n",
       "      <th></th>\n",
       "      <th></th>\n",
       "      <th></th>\n",
       "      <th></th>\n",
       "      <th></th>\n",
       "      <th></th>\n",
       "      <th></th>\n",
       "      <th></th>\n",
       "      <th></th>\n",
       "    </tr>\n",
       "  </thead>\n",
       "  <tbody>\n",
       "    <tr>\n",
       "      <th>2017-02-16 00:00:00-05:00</th>\n",
       "      <td>108.01</td>\n",
       "      <td>108.280</td>\n",
       "      <td>108.0100</td>\n",
       "      <td>108.13</td>\n",
       "      <td>5104745</td>\n",
       "      <td>NaN</td>\n",
       "      <td>234.96</td>\n",
       "      <td>235.155</td>\n",
       "      <td>233.85</td>\n",
       "      <td>234.73</td>\n",
       "      <td>66786200</td>\n",
       "      <td>NaN</td>\n",
       "    </tr>\n",
       "    <tr>\n",
       "      <th>2017-02-17 00:00:00-05:00</th>\n",
       "      <td>108.37</td>\n",
       "      <td>108.445</td>\n",
       "      <td>108.3200</td>\n",
       "      <td>108.37</td>\n",
       "      <td>2098583</td>\n",
       "      <td>0.002220</td>\n",
       "      <td>233.95</td>\n",
       "      <td>235.070</td>\n",
       "      <td>233.93</td>\n",
       "      <td>235.06</td>\n",
       "      <td>48329777</td>\n",
       "      <td>0.001406</td>\n",
       "    </tr>\n",
       "    <tr>\n",
       "      <th>2017-02-21 00:00:00-05:00</th>\n",
       "      <td>108.24</td>\n",
       "      <td>108.450</td>\n",
       "      <td>108.2200</td>\n",
       "      <td>108.36</td>\n",
       "      <td>1806888</td>\n",
       "      <td>-0.000092</td>\n",
       "      <td>235.52</td>\n",
       "      <td>236.690</td>\n",
       "      <td>235.51</td>\n",
       "      <td>236.45</td>\n",
       "      <td>52838456</td>\n",
       "      <td>0.005913</td>\n",
       "    </tr>\n",
       "    <tr>\n",
       "      <th>2017-02-22 00:00:00-05:00</th>\n",
       "      <td>108.54</td>\n",
       "      <td>108.550</td>\n",
       "      <td>108.2000</td>\n",
       "      <td>108.45</td>\n",
       "      <td>2505309</td>\n",
       "      <td>0.000831</td>\n",
       "      <td>236.02</td>\n",
       "      <td>236.540</td>\n",
       "      <td>235.83</td>\n",
       "      <td>236.30</td>\n",
       "      <td>39266269</td>\n",
       "      <td>-0.000634</td>\n",
       "    </tr>\n",
       "    <tr>\n",
       "      <th>2017-02-23 00:00:00-05:00</th>\n",
       "      <td>108.56</td>\n",
       "      <td>108.645</td>\n",
       "      <td>108.5338</td>\n",
       "      <td>108.64</td>\n",
       "      <td>2005299</td>\n",
       "      <td>0.001752</td>\n",
       "      <td>236.88</td>\n",
       "      <td>236.900</td>\n",
       "      <td>235.56</td>\n",
       "      <td>236.45</td>\n",
       "      <td>62429211</td>\n",
       "      <td>0.000635</td>\n",
       "    </tr>\n",
       "  </tbody>\n",
       "</table>\n",
       "</div>"
      ],
      "text/plain": [
       "                              AGG                                      \\\n",
       "                             open     high       low   close   volume   \n",
       "time                                                                    \n",
       "2017-02-16 00:00:00-05:00  108.01  108.280  108.0100  108.13  5104745   \n",
       "2017-02-17 00:00:00-05:00  108.37  108.445  108.3200  108.37  2098583   \n",
       "2017-02-21 00:00:00-05:00  108.24  108.450  108.2200  108.36  1806888   \n",
       "2017-02-22 00:00:00-05:00  108.54  108.550  108.2000  108.45  2505309   \n",
       "2017-02-23 00:00:00-05:00  108.56  108.645  108.5338  108.64  2005299   \n",
       "\n",
       "                                           SPY                           \\\n",
       "                          daily_return    open     high     low   close   \n",
       "time                                                                      \n",
       "2017-02-16 00:00:00-05:00          NaN  234.96  235.155  233.85  234.73   \n",
       "2017-02-17 00:00:00-05:00     0.002220  233.95  235.070  233.93  235.06   \n",
       "2017-02-21 00:00:00-05:00    -0.000092  235.52  236.690  235.51  236.45   \n",
       "2017-02-22 00:00:00-05:00     0.000831  236.02  236.540  235.83  236.30   \n",
       "2017-02-23 00:00:00-05:00     0.001752  236.88  236.900  235.56  236.45   \n",
       "\n",
       "                                                  \n",
       "                             volume daily_return  \n",
       "time                                              \n",
       "2017-02-16 00:00:00-05:00  66786200          NaN  \n",
       "2017-02-17 00:00:00-05:00  48329777     0.001406  \n",
       "2017-02-21 00:00:00-05:00  52838456     0.005913  \n",
       "2017-02-22 00:00:00-05:00  39266269    -0.000634  \n",
       "2017-02-23 00:00:00-05:00  62429211     0.000635  "
      ]
     },
     "execution_count": 70,
     "metadata": {},
     "output_type": "execute_result"
    }
   ],
   "source": [
    "# Configure a Monte Carlo simulation to forecast 10 years cumulative returns\n",
    "# The weights should be split 20% to AGG and 80% to SPY.\n",
    "# Run 500 samples.\n",
    "MC_twentyeighty = MCSimulation(\n",
    "    portfolio_data = monte_prices_df1,\n",
    "    weights = [.2,.8],\n",
    "    num_simulation = 500,\n",
    "    num_trading_days = 252*10\n",
    ")\n",
    "\n",
    "# Review the simulation input data\n",
    "MC_twentyeighty.portfolio_data.head()"
   ]
  },
  {
   "cell_type": "code",
   "execution_count": 71,
   "metadata": {},
   "outputs": [
    {
     "name": "stdout",
     "output_type": "stream",
     "text": [
      "Running Monte Carlo simulation number 0.\n",
      "Running Monte Carlo simulation number 10.\n",
      "Running Monte Carlo simulation number 20.\n",
      "Running Monte Carlo simulation number 30.\n",
      "Running Monte Carlo simulation number 40.\n",
      "Running Monte Carlo simulation number 50.\n",
      "Running Monte Carlo simulation number 60.\n",
      "Running Monte Carlo simulation number 70.\n",
      "Running Monte Carlo simulation number 80.\n",
      "Running Monte Carlo simulation number 90.\n",
      "Running Monte Carlo simulation number 100.\n",
      "Running Monte Carlo simulation number 110.\n",
      "Running Monte Carlo simulation number 120.\n",
      "Running Monte Carlo simulation number 130.\n",
      "Running Monte Carlo simulation number 140.\n",
      "Running Monte Carlo simulation number 150.\n",
      "Running Monte Carlo simulation number 160.\n",
      "Running Monte Carlo simulation number 170.\n",
      "Running Monte Carlo simulation number 180.\n",
      "Running Monte Carlo simulation number 190.\n",
      "Running Monte Carlo simulation number 200.\n",
      "Running Monte Carlo simulation number 210.\n",
      "Running Monte Carlo simulation number 220.\n",
      "Running Monte Carlo simulation number 230.\n",
      "Running Monte Carlo simulation number 240.\n",
      "Running Monte Carlo simulation number 250.\n",
      "Running Monte Carlo simulation number 260.\n",
      "Running Monte Carlo simulation number 270.\n",
      "Running Monte Carlo simulation number 280.\n",
      "Running Monte Carlo simulation number 290.\n",
      "Running Monte Carlo simulation number 300.\n",
      "Running Monte Carlo simulation number 310.\n",
      "Running Monte Carlo simulation number 320.\n",
      "Running Monte Carlo simulation number 330.\n",
      "Running Monte Carlo simulation number 340.\n",
      "Running Monte Carlo simulation number 350.\n",
      "Running Monte Carlo simulation number 360.\n",
      "Running Monte Carlo simulation number 370.\n",
      "Running Monte Carlo simulation number 380.\n",
      "Running Monte Carlo simulation number 390.\n",
      "Running Monte Carlo simulation number 400.\n",
      "Running Monte Carlo simulation number 410.\n",
      "Running Monte Carlo simulation number 420.\n",
      "Running Monte Carlo simulation number 430.\n",
      "Running Monte Carlo simulation number 440.\n",
      "Running Monte Carlo simulation number 450.\n",
      "Running Monte Carlo simulation number 460.\n",
      "Running Monte Carlo simulation number 470.\n",
      "Running Monte Carlo simulation number 480.\n",
      "Running Monte Carlo simulation number 490.\n"
     ]
    },
    {
     "data": {
      "text/html": [
       "<div>\n",
       "<style scoped>\n",
       "    .dataframe tbody tr th:only-of-type {\n",
       "        vertical-align: middle;\n",
       "    }\n",
       "\n",
       "    .dataframe tbody tr th {\n",
       "        vertical-align: top;\n",
       "    }\n",
       "\n",
       "    .dataframe thead th {\n",
       "        text-align: right;\n",
       "    }\n",
       "</style>\n",
       "<table border=\"1\" class=\"dataframe\">\n",
       "  <thead>\n",
       "    <tr style=\"text-align: right;\">\n",
       "      <th></th>\n",
       "      <th>0</th>\n",
       "      <th>1</th>\n",
       "      <th>2</th>\n",
       "      <th>3</th>\n",
       "      <th>4</th>\n",
       "      <th>5</th>\n",
       "      <th>6</th>\n",
       "      <th>7</th>\n",
       "      <th>8</th>\n",
       "      <th>9</th>\n",
       "      <th>...</th>\n",
       "      <th>490</th>\n",
       "      <th>491</th>\n",
       "      <th>492</th>\n",
       "      <th>493</th>\n",
       "      <th>494</th>\n",
       "      <th>495</th>\n",
       "      <th>496</th>\n",
       "      <th>497</th>\n",
       "      <th>498</th>\n",
       "      <th>499</th>\n",
       "    </tr>\n",
       "  </thead>\n",
       "  <tbody>\n",
       "    <tr>\n",
       "      <th>0</th>\n",
       "      <td>1.000000</td>\n",
       "      <td>1.000000</td>\n",
       "      <td>1.000000</td>\n",
       "      <td>1.000000</td>\n",
       "      <td>1.000000</td>\n",
       "      <td>1.000000</td>\n",
       "      <td>1.000000</td>\n",
       "      <td>1.000000</td>\n",
       "      <td>1.000000</td>\n",
       "      <td>1.000000</td>\n",
       "      <td>...</td>\n",
       "      <td>1.000000</td>\n",
       "      <td>1.000000</td>\n",
       "      <td>1.000000</td>\n",
       "      <td>1.000000</td>\n",
       "      <td>1.000000</td>\n",
       "      <td>1.000000</td>\n",
       "      <td>1.000000</td>\n",
       "      <td>1.000000</td>\n",
       "      <td>1.000000</td>\n",
       "      <td>1.000000</td>\n",
       "    </tr>\n",
       "    <tr>\n",
       "      <th>1</th>\n",
       "      <td>0.987030</td>\n",
       "      <td>0.998249</td>\n",
       "      <td>0.994745</td>\n",
       "      <td>0.991477</td>\n",
       "      <td>0.991172</td>\n",
       "      <td>1.006101</td>\n",
       "      <td>1.018174</td>\n",
       "      <td>0.999037</td>\n",
       "      <td>0.985917</td>\n",
       "      <td>1.000755</td>\n",
       "      <td>...</td>\n",
       "      <td>0.995302</td>\n",
       "      <td>1.006659</td>\n",
       "      <td>1.020536</td>\n",
       "      <td>0.996897</td>\n",
       "      <td>0.999505</td>\n",
       "      <td>1.011190</td>\n",
       "      <td>1.008483</td>\n",
       "      <td>0.994532</td>\n",
       "      <td>0.997081</td>\n",
       "      <td>0.994760</td>\n",
       "    </tr>\n",
       "    <tr>\n",
       "      <th>2</th>\n",
       "      <td>0.990636</td>\n",
       "      <td>0.991308</td>\n",
       "      <td>0.984442</td>\n",
       "      <td>1.005140</td>\n",
       "      <td>1.011230</td>\n",
       "      <td>1.009695</td>\n",
       "      <td>1.032696</td>\n",
       "      <td>0.996905</td>\n",
       "      <td>0.977568</td>\n",
       "      <td>0.999703</td>\n",
       "      <td>...</td>\n",
       "      <td>0.979350</td>\n",
       "      <td>1.012601</td>\n",
       "      <td>1.024378</td>\n",
       "      <td>0.996389</td>\n",
       "      <td>0.985973</td>\n",
       "      <td>0.998366</td>\n",
       "      <td>1.015382</td>\n",
       "      <td>0.998805</td>\n",
       "      <td>0.988563</td>\n",
       "      <td>1.014590</td>\n",
       "    </tr>\n",
       "    <tr>\n",
       "      <th>3</th>\n",
       "      <td>0.991776</td>\n",
       "      <td>0.987513</td>\n",
       "      <td>0.987576</td>\n",
       "      <td>1.007988</td>\n",
       "      <td>1.015010</td>\n",
       "      <td>1.004779</td>\n",
       "      <td>1.024998</td>\n",
       "      <td>1.027962</td>\n",
       "      <td>0.971642</td>\n",
       "      <td>0.999784</td>\n",
       "      <td>...</td>\n",
       "      <td>0.976062</td>\n",
       "      <td>1.011627</td>\n",
       "      <td>1.025111</td>\n",
       "      <td>0.994811</td>\n",
       "      <td>0.998913</td>\n",
       "      <td>0.996037</td>\n",
       "      <td>1.036738</td>\n",
       "      <td>1.011972</td>\n",
       "      <td>0.987429</td>\n",
       "      <td>1.013494</td>\n",
       "    </tr>\n",
       "    <tr>\n",
       "      <th>4</th>\n",
       "      <td>0.994488</td>\n",
       "      <td>0.993960</td>\n",
       "      <td>0.994712</td>\n",
       "      <td>1.004904</td>\n",
       "      <td>1.011541</td>\n",
       "      <td>0.996802</td>\n",
       "      <td>1.021006</td>\n",
       "      <td>1.043814</td>\n",
       "      <td>0.966808</td>\n",
       "      <td>1.016076</td>\n",
       "      <td>...</td>\n",
       "      <td>0.986149</td>\n",
       "      <td>1.009623</td>\n",
       "      <td>1.019392</td>\n",
       "      <td>0.996780</td>\n",
       "      <td>1.007952</td>\n",
       "      <td>1.007717</td>\n",
       "      <td>1.032519</td>\n",
       "      <td>1.024181</td>\n",
       "      <td>0.975360</td>\n",
       "      <td>1.018384</td>\n",
       "    </tr>\n",
       "    <tr>\n",
       "      <th>...</th>\n",
       "      <td>...</td>\n",
       "      <td>...</td>\n",
       "      <td>...</td>\n",
       "      <td>...</td>\n",
       "      <td>...</td>\n",
       "      <td>...</td>\n",
       "      <td>...</td>\n",
       "      <td>...</td>\n",
       "      <td>...</td>\n",
       "      <td>...</td>\n",
       "      <td>...</td>\n",
       "      <td>...</td>\n",
       "      <td>...</td>\n",
       "      <td>...</td>\n",
       "      <td>...</td>\n",
       "      <td>...</td>\n",
       "      <td>...</td>\n",
       "      <td>...</td>\n",
       "      <td>...</td>\n",
       "      <td>...</td>\n",
       "      <td>...</td>\n",
       "    </tr>\n",
       "    <tr>\n",
       "      <th>2516</th>\n",
       "      <td>2.161381</td>\n",
       "      <td>2.261757</td>\n",
       "      <td>1.681444</td>\n",
       "      <td>3.592893</td>\n",
       "      <td>2.338761</td>\n",
       "      <td>2.689961</td>\n",
       "      <td>1.302899</td>\n",
       "      <td>4.218019</td>\n",
       "      <td>4.374418</td>\n",
       "      <td>5.892487</td>\n",
       "      <td>...</td>\n",
       "      <td>3.169219</td>\n",
       "      <td>3.905421</td>\n",
       "      <td>2.462537</td>\n",
       "      <td>2.567150</td>\n",
       "      <td>1.916046</td>\n",
       "      <td>1.934849</td>\n",
       "      <td>2.113234</td>\n",
       "      <td>3.501155</td>\n",
       "      <td>7.953916</td>\n",
       "      <td>1.747703</td>\n",
       "    </tr>\n",
       "    <tr>\n",
       "      <th>2517</th>\n",
       "      <td>2.154623</td>\n",
       "      <td>2.302689</td>\n",
       "      <td>1.716117</td>\n",
       "      <td>3.554369</td>\n",
       "      <td>2.402987</td>\n",
       "      <td>2.672905</td>\n",
       "      <td>1.326640</td>\n",
       "      <td>4.188638</td>\n",
       "      <td>4.370627</td>\n",
       "      <td>5.860020</td>\n",
       "      <td>...</td>\n",
       "      <td>3.166817</td>\n",
       "      <td>3.856775</td>\n",
       "      <td>2.508537</td>\n",
       "      <td>2.599112</td>\n",
       "      <td>1.939171</td>\n",
       "      <td>1.921923</td>\n",
       "      <td>2.092227</td>\n",
       "      <td>3.538289</td>\n",
       "      <td>7.959370</td>\n",
       "      <td>1.777946</td>\n",
       "    </tr>\n",
       "    <tr>\n",
       "      <th>2518</th>\n",
       "      <td>2.157489</td>\n",
       "      <td>2.333265</td>\n",
       "      <td>1.724034</td>\n",
       "      <td>3.531502</td>\n",
       "      <td>2.390156</td>\n",
       "      <td>2.725717</td>\n",
       "      <td>1.328505</td>\n",
       "      <td>4.175163</td>\n",
       "      <td>4.415615</td>\n",
       "      <td>5.809423</td>\n",
       "      <td>...</td>\n",
       "      <td>3.146046</td>\n",
       "      <td>3.832663</td>\n",
       "      <td>2.524719</td>\n",
       "      <td>2.615365</td>\n",
       "      <td>1.919174</td>\n",
       "      <td>1.915099</td>\n",
       "      <td>2.073772</td>\n",
       "      <td>3.466486</td>\n",
       "      <td>7.823035</td>\n",
       "      <td>1.780461</td>\n",
       "    </tr>\n",
       "    <tr>\n",
       "      <th>2519</th>\n",
       "      <td>2.193120</td>\n",
       "      <td>2.331151</td>\n",
       "      <td>1.714377</td>\n",
       "      <td>3.538501</td>\n",
       "      <td>2.402095</td>\n",
       "      <td>2.730316</td>\n",
       "      <td>1.338689</td>\n",
       "      <td>4.137001</td>\n",
       "      <td>4.381236</td>\n",
       "      <td>5.896293</td>\n",
       "      <td>...</td>\n",
       "      <td>3.147154</td>\n",
       "      <td>3.816801</td>\n",
       "      <td>2.540011</td>\n",
       "      <td>2.648072</td>\n",
       "      <td>1.921680</td>\n",
       "      <td>1.884007</td>\n",
       "      <td>2.101870</td>\n",
       "      <td>3.458240</td>\n",
       "      <td>7.757029</td>\n",
       "      <td>1.775332</td>\n",
       "    </tr>\n",
       "    <tr>\n",
       "      <th>2520</th>\n",
       "      <td>2.149209</td>\n",
       "      <td>2.392004</td>\n",
       "      <td>1.720311</td>\n",
       "      <td>3.492531</td>\n",
       "      <td>2.376302</td>\n",
       "      <td>2.738570</td>\n",
       "      <td>1.353149</td>\n",
       "      <td>4.120482</td>\n",
       "      <td>4.457620</td>\n",
       "      <td>5.877554</td>\n",
       "      <td>...</td>\n",
       "      <td>3.170974</td>\n",
       "      <td>3.903776</td>\n",
       "      <td>2.551626</td>\n",
       "      <td>2.726439</td>\n",
       "      <td>1.915989</td>\n",
       "      <td>1.895396</td>\n",
       "      <td>2.124070</td>\n",
       "      <td>3.451715</td>\n",
       "      <td>7.849370</td>\n",
       "      <td>1.763619</td>\n",
       "    </tr>\n",
       "  </tbody>\n",
       "</table>\n",
       "<p>2521 rows × 500 columns</p>\n",
       "</div>"
      ],
      "text/plain": [
       "           0         1         2         3         4         5         6    \\\n",
       "0     1.000000  1.000000  1.000000  1.000000  1.000000  1.000000  1.000000   \n",
       "1     0.987030  0.998249  0.994745  0.991477  0.991172  1.006101  1.018174   \n",
       "2     0.990636  0.991308  0.984442  1.005140  1.011230  1.009695  1.032696   \n",
       "3     0.991776  0.987513  0.987576  1.007988  1.015010  1.004779  1.024998   \n",
       "4     0.994488  0.993960  0.994712  1.004904  1.011541  0.996802  1.021006   \n",
       "...        ...       ...       ...       ...       ...       ...       ...   \n",
       "2516  2.161381  2.261757  1.681444  3.592893  2.338761  2.689961  1.302899   \n",
       "2517  2.154623  2.302689  1.716117  3.554369  2.402987  2.672905  1.326640   \n",
       "2518  2.157489  2.333265  1.724034  3.531502  2.390156  2.725717  1.328505   \n",
       "2519  2.193120  2.331151  1.714377  3.538501  2.402095  2.730316  1.338689   \n",
       "2520  2.149209  2.392004  1.720311  3.492531  2.376302  2.738570  1.353149   \n",
       "\n",
       "           7         8         9    ...       490       491       492  \\\n",
       "0     1.000000  1.000000  1.000000  ...  1.000000  1.000000  1.000000   \n",
       "1     0.999037  0.985917  1.000755  ...  0.995302  1.006659  1.020536   \n",
       "2     0.996905  0.977568  0.999703  ...  0.979350  1.012601  1.024378   \n",
       "3     1.027962  0.971642  0.999784  ...  0.976062  1.011627  1.025111   \n",
       "4     1.043814  0.966808  1.016076  ...  0.986149  1.009623  1.019392   \n",
       "...        ...       ...       ...  ...       ...       ...       ...   \n",
       "2516  4.218019  4.374418  5.892487  ...  3.169219  3.905421  2.462537   \n",
       "2517  4.188638  4.370627  5.860020  ...  3.166817  3.856775  2.508537   \n",
       "2518  4.175163  4.415615  5.809423  ...  3.146046  3.832663  2.524719   \n",
       "2519  4.137001  4.381236  5.896293  ...  3.147154  3.816801  2.540011   \n",
       "2520  4.120482  4.457620  5.877554  ...  3.170974  3.903776  2.551626   \n",
       "\n",
       "           493       494       495       496       497       498       499  \n",
       "0     1.000000  1.000000  1.000000  1.000000  1.000000  1.000000  1.000000  \n",
       "1     0.996897  0.999505  1.011190  1.008483  0.994532  0.997081  0.994760  \n",
       "2     0.996389  0.985973  0.998366  1.015382  0.998805  0.988563  1.014590  \n",
       "3     0.994811  0.998913  0.996037  1.036738  1.011972  0.987429  1.013494  \n",
       "4     0.996780  1.007952  1.007717  1.032519  1.024181  0.975360  1.018384  \n",
       "...        ...       ...       ...       ...       ...       ...       ...  \n",
       "2516  2.567150  1.916046  1.934849  2.113234  3.501155  7.953916  1.747703  \n",
       "2517  2.599112  1.939171  1.921923  2.092227  3.538289  7.959370  1.777946  \n",
       "2518  2.615365  1.919174  1.915099  2.073772  3.466486  7.823035  1.780461  \n",
       "2519  2.648072  1.921680  1.884007  2.101870  3.458240  7.757029  1.775332  \n",
       "2520  2.726439  1.915989  1.895396  2.124070  3.451715  7.849370  1.763619  \n",
       "\n",
       "[2521 rows x 500 columns]"
      ]
     },
     "execution_count": 71,
     "metadata": {},
     "output_type": "execute_result"
    }
   ],
   "source": [
    "# Run the Monte Carlo simulation to forecast 10 years cumulative returns\n",
    "MC_twentyeighty.calc_cumulative_return()"
   ]
  },
  {
   "cell_type": "code",
   "execution_count": 72,
   "metadata": {},
   "outputs": [
    {
     "data": {
      "image/png": "[encoded data removed]",
      "text/plain": [
       "<Figure size 432x288 with 1 Axes>"
      ]
     },
     "metadata": {
      "needs_background": "light"
     },
     "output_type": "display_data"
    }
   ],
   "source": [
    "# Visualize the 10-year Monte Carlo simulation by creating an\n",
    "# overlay line plot\n",
    "twenty_eighty_plot = MC_twentyeighty.plot_simulation()"
   ]
  },
  {
   "cell_type": "code",
   "execution_count": 73,
   "metadata": {},
   "outputs": [
    {
     "data": {
      "image/png": "[encoded data removed]",
      "text/plain": [
       "<Figure size 432x288 with 1 Axes>"
      ]
     },
     "metadata": {
      "needs_background": "light"
     },
     "output_type": "display_data"
    }
   ],
   "source": [
    "# Visualize the probability distribution of the 10-year Monte Carlo simulation \n",
    "# by plotting a histogram\n",
    "twenty_eighty_distribution_plot = MC_twentyeighty.plot_distribution()"
   ]
  },
  {
   "cell_type": "code",
   "execution_count": 74,
   "metadata": {},
   "outputs": [
    {
     "name": "stdout",
     "output_type": "stream",
     "text": [
      "count           500.000000\n",
      "mean              3.423377\n",
      "std               1.861876\n",
      "min               0.729723\n",
      "25%               2.083966\n",
      "50%               2.998956\n",
      "75%               4.421286\n",
      "max              12.027163\n",
      "95% CI Lower      1.117182\n",
      "95% CI Upper      8.107962\n",
      "Name: 2520, dtype: float64\n"
     ]
    }
   ],
   "source": [
    "# Generate summary statistics from the 10-year Monte Carlo simulation results\n",
    "# Save the results as a variable\n",
    "twenty_eighty_table = MC_twentyeighty.summarize_cumulative_return()\n",
    "\n",
    "\n",
    "# Review the 30-year Monte Carlo summary statistics\n",
    "print(twenty_eighty_table)"
   ]
  },
  {
   "cell_type": "markdown",
   "metadata": {},
   "source": [
    "### Answer the following questions:"
   ]
  },
  {
   "cell_type": "markdown",
   "metadata": {},
   "source": [
    "#### Question: Using the current value of only the stock and bond portion of the member's portfolio and the summary statistics that you generated from the new Monte Carlo simulation, what are the lower and upper bounds for the expected value of the portfolio (with the new weights) with a 95% confidence interval?"
   ]
  },
  {
   "cell_type": "code",
   "execution_count": 75,
   "metadata": {},
   "outputs": [
    {
     "name": "stdout",
     "output_type": "stream",
     "text": [
      "60689.5\n"
     ]
    }
   ],
   "source": [
    "# Print the current balance of the stock and bond portion of the members portfolio\n",
    "print(total_stocks_bonds)"
   ]
  },
  {
   "cell_type": "code",
   "execution_count": 78,
   "metadata": {},
   "outputs": [
    {
     "name": "stdout",
     "output_type": "stream",
     "text": [
      "There is a 95% chance that an initial investment of $60689.5 in the client portfolio with a split 20% to AGG and 80% to SPY in 10 years will end within in the range of $67801.22 and $492068.18.\n"
     ]
    }
   ],
   "source": [
    "# Use the lower and upper `95%` confidence intervals to calculate the range of the possible outcomes for the current stock/bond portfolio\n",
    "ci_lower_ten_cumulative_return = round(twenty_eighty_table[8]*total_stocks_bonds,2)\n",
    "ci_upper_ten_cumulative_return = round(twenty_eighty_table[9]*total_stocks_bonds,2)\n",
    "\n",
    "# Print the result of your calculations\n",
    "print(f\"There is a 95% chance that an initial investment of ${total_stocks_bonds} in the client portfolio\"\n",
    "      f\" with a split 20% to AGG and 80% to SPY in 10 years will end within in the range of\"\n",
    "      f\" ${ci_lower_ten_cumulative_return} and ${ci_upper_ten_cumulative_return}.\")"
   ]
  },
  {
   "cell_type": "markdown",
   "metadata": {},
   "source": [
    "#### Question: Will weighting the portfolio more heavily to stocks allow the credit union members to retire after only 10 years?"
   ]
  },
  {
   "cell_type": "raw",
   "metadata": {},
   "source": [
    "**Answer** # It depends. If the return is closer to the upper bound of possible money earned, then yes, they will have enough money to retire after only ten years"
   ]
  }
 ],
 "metadata": {
  "kernelspec": {
   "display_name": "Python (dev)",
   "language": "python",
   "name": "dev"
  },
  "language_info": {
   "codemirror_mode": {
    "name": "ipython",
    "version": 3
   },
   "file_extension": ".py",
   "mimetype": "text/x-python",
   "name": "python",
   "nbconvert_exporter": "python",
   "pygments_lexer": "ipython3",
   "version": "3.7.9"
  }
 },
 "nbformat": 4,
 "nbformat_minor": 4
}
